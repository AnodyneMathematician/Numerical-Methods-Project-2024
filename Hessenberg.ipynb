{
 "cells": [
  {
   "cell_type": "code",
   "execution_count": 1,
   "id": "fd61f47f-4ba9-4518-9a85-860a0cafc660",
   "metadata": {},
   "outputs": [],
   "source": [
    "using LinearAlgebra"
   ]
  },
  {
   "cell_type": "code",
   "execution_count": 2,
   "id": "6ebc36d4-d5dd-459d-815a-3258ffeab16f",
   "metadata": {},
   "outputs": [
    {
     "data": {
      "text/plain": [
       "householder"
      ]
     },
     "execution_count": 2,
     "metadata": {},
     "output_type": "execute_result"
    }
   ],
   "source": [
    "\"\"\"\n",
    "Given a square matrix M (data in Floats) and an integer m, outputs householder reflection of for the mth column\n",
    "\"\"\"\n",
    "function householder(M::Matrix{Float64}, m::Int64)\n",
    "    n = size(M,1) #Gets size of M (assumes matrix is square)\n",
    "    A = copy(M) #Initialises copy of M\n",
    "    for i = 1:m\n",
    "        A = A[1:n-i+1 .!= 1,: ] #Removes first m rows\n",
    "    end\n",
    "    a = A[:,m] #Extracts mth column (with only n-m elements now)\n",
    "    e = I[1:(n-m), 1] #Creates vector with n-m elements, leading with 1 and all other elements 0\n",
    "    w = a - norm(a)*e #Calculates w\n",
    "    P = Float64.(Matrix(I, n-m, n-m)) - (2w*(w'))/(norm(w)^2) #Calculates householder matrix P\n",
    "    U = Float64.(Matrix(I, n, n)) #Initialises identity matrix\n",
    "    for i = 1:n-m\n",
    "        for j = 1:n-m\n",
    "            U[i+m,j+m] = P[i,j] #Extends P to n×n dimensions by inserting P into the bottom right corner of an identity matrix\n",
    "        end\n",
    "    end\n",
    "    return U #Returns householder transformation U\n",
    "end"
   ]
  },
  {
   "cell_type": "code",
   "execution_count": 3,
   "id": "b3cf1374-a9ee-4acc-898f-15347985802b",
   "metadata": {},
   "outputs": [
    {
     "data": {
      "text/plain": [
       "hessen"
      ]
     },
     "execution_count": 3,
     "metadata": {},
     "output_type": "execute_result"
    }
   ],
   "source": [
    "\"\"\"\n",
    "Calculates similar hessenberg matrix of a given square matrix M (data in Floats)\n",
    "\"\"\"\n",
    "function hessen(M::Matrix{Float64})\n",
    "    A = copy(M) #Initialises copy of M\n",
    "    n = size(A,1) #Gets size of A (assumes square)\n",
    "    for i = 1:n-2\n",
    "        U = householder(A, i) #Recursively generates householder transformation\n",
    "        A = U*A*(U') #Applies transformation to A (uses conjugate transpose to retain similarity)\n",
    "    end\n",
    "    return A #Returns hessenberg matrix A\n",
    "end"
   ]
  }
 ],
 "metadata": {
  "kernelspec": {
   "display_name": "Julia 1.10.4",
   "language": "julia",
   "name": "julia-1.10"
  },
  "language_info": {
   "file_extension": ".jl",
   "mimetype": "application/julia",
   "name": "julia",
   "version": "1.10.4"
  }
 },
 "nbformat": 4,
 "nbformat_minor": 5
}
