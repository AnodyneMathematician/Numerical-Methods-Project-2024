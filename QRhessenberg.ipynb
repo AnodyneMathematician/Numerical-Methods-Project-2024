{
 "cells": [
  {
   "cell_type": "code",
   "execution_count": 11,
   "id": "5d18d578-23c9-4e6d-a5f5-2f18a8326568",
   "metadata": {},
   "outputs": [],
   "source": [
    "using LinearAlgebra"
   ]
  },
  {
   "cell_type": "code",
   "execution_count": 12,
   "id": "b9f0e006-3886-40fa-afea-077812eb4a34",
   "metadata": {},
   "outputs": [
    {
     "data": {
      "text/plain": [
       "house"
      ]
     },
     "execution_count": 12,
     "metadata": {},
     "output_type": "execute_result"
    }
   ],
   "source": [
    "\"\"\"\n",
    "Given a square matrix M (data in Floats) and an integer m, outputs householder reflection of for the mth column\n",
    "\"\"\"\n",
    "function house(M::Matrix{Float64}, m::Int64)\n",
    "    n = size(M,1) #Gets size of M (assumes matrix is square)\n",
    "    A = copy(M) #Initialises copy of M\n",
    "    for i = 1:m\n",
    "        A = A[1:n-i+1 .!= 1,: ] #Removes first m rows\n",
    "    end\n",
    "    a = A[:,m] #Extracts mth column (with only n-m elements now)\n",
    "    e = I[1:(n-m), 1] #Creates vector with n-m elements, leading with 1 and all other elements 0\n",
    "    w = a - norm(a)*e #Calculates w\n",
    "    P = Float64.(Matrix(I, n-m, n-m)) - (2w*(w'))/(norm(w)^2) #Calculates householder matrix P\n",
    "    U = Float64.(Matrix(I, n, n)) #Initialises identity matrix\n",
    "    for i = 1:n-m\n",
    "        for j = 1:n-m\n",
    "            U[i+m,j+m] = P[i,j] #Extends P to n×n dimensions by inserting P into the bottom right corner of an identity matrix\n",
    "        end\n",
    "    end\n",
    "    return U #Returns householder transformation U\n",
    "end"
   ]
  },
  {
   "cell_type": "code",
   "execution_count": 13,
   "id": "0a9e65ea-dcf7-467e-969a-b3953dcffd57",
   "metadata": {},
   "outputs": [
    {
     "data": {
      "text/plain": [
       "hessen"
      ]
     },
     "execution_count": 13,
     "metadata": {},
     "output_type": "execute_result"
    }
   ],
   "source": [
    "\"\"\"\n",
    "Calculates similar hessenberg matrix of a given square matrix M (data in Floats)\n",
    "\"\"\"\n",
    "function hessen(M::Matrix{Float64})\n",
    "    A = copy(M) #Initialises copy of M\n",
    "    n = size(A,1) #Gets size of A (assumes square)\n",
    "    for i = 1:n-2\n",
    "        U = house(A, i) #Recursively generates householder transformation\n",
    "        A = U*A*(U') #Applies transformation to A (uses conjugate transpose to retain similarity)\n",
    "    end\n",
    "    return A #Returns hessenberg matrix A\n",
    "end "
   ]
  },
  {
   "cell_type": "code",
   "execution_count": 14,
   "id": "2d4ddd40-d769-46ae-9264-90a369729b53",
   "metadata": {},
   "outputs": [
    {
     "data": {
      "text/plain": [
       "given"
      ]
     },
     "execution_count": 14,
     "metadata": {},
     "output_type": "execute_result"
    }
   ],
   "source": [
    "\"\"\"\n",
    "Computes Givens Rotation that shifts 2×2 matrix with left column [a b] in to an upper-triangular matrix (bottom left 0)\n",
    "\"\"\"\n",
    "function given(a::Float64, b::Float64)\n",
    "    u = (a^2 + b^2)^0.5 #Calculates norm of vector [a b]\n",
    "    c = a/u #Calculates c\n",
    "    s = -b/u #Calculates s\n",
    "    G = [c -s; s c] #Calculates Givens Rotation G\n",
    "    return G #Returns G\n",
    "end"
   ]
  },
  {
   "cell_type": "code",
   "execution_count": 15,
   "id": "b9df62d6-24a5-42ca-9b64-bdcb26d4d4aa",
   "metadata": {},
   "outputs": [
    {
     "data": {
      "text/plain": [
       "hessenqrdecomp"
      ]
     },
     "execution_count": 15,
     "metadata": {},
     "output_type": "execute_result"
    }
   ],
   "source": [
    "\"\"\"\n",
    "Calculates QR form of a square matrix (data in Float64) using Hessenberg reduction and Givens Rotations\n",
    "\"\"\"\n",
    "function hessenqrdecomp(M::Matrix{Float64})\n",
    "    A = copy(M)\n",
    "    n = size(A,1) #Gets dimension of matrix (assumes it's square)\n",
    "    T = Matrix(I, n, n) #Initialises product of Givens Rotations\n",
    "    for i = 1:n-1 #As Givens rotations are 2×2 matrixs, we only need to do n-1, not n, iterations\n",
    "        a = A[i,i] #Extract arguements for given function\n",
    "        b = A[i+1,i]\n",
    "        G = given(a, b) #Creates Givens Rotation\n",
    "        F = Float64.(Matrix(I, n, n)) #Initialises n×n identity matrix\n",
    "        F[i,i], F[i,i+1], F[i+1,i], F[i+1,i+1] = G[1,1], G[1,2], G[2,1], G[2,2] #Inserts Givens Rotation along the diagonal\n",
    "        T = F*T #Updates product of Givens Rotations\n",
    "        A = F*A #Applies Givens Rotation to A\n",
    "    end\n",
    "    R = A #Calculates R\n",
    "    Q = T' #Calculates Q \n",
    "    return Q, R #Return QR form\n",
    "end"
   ]
  },
  {
   "cell_type": "code",
   "execution_count": 16,
   "id": "02d841c9-3486-4fdc-96bf-26dc4e084661",
   "metadata": {},
   "outputs": [
    {
     "data": {
      "text/plain": [
       "extracteigen"
      ]
     },
     "execution_count": 16,
     "metadata": {},
     "output_type": "execute_result"
    }
   ],
   "source": [
    "\"\"\"\n",
    "Extracts Eigenvalues from a n×n square matrix in Shur form (derived from real matrix).\n",
    "Eigenvalues are either on the leading diagonal, or are solved analytically from a 2×w matrix in the case they are complex \n",
    "conjugates.\n",
    "We can check if the eigenvalue on the diagonal is part of such a pair by checking if there is a non-zero element \n",
    "below the diagonal\n",
    "\"\"\"\n",
    "function extracteigen(M::Matrix{Float64}, n::Int, ϵ::Float64) #n is the dimensions of matrix, ϵ is error tolerance\n",
    "    Eigen = zeros(Complex{Float64}, n) #Initialises vector of n eigenvalues\n",
    "    M = ComplexF64.(M) #Converts matrix into complex form\n",
    "    for i = 1:n #Recursively checks over all the leading diagonal\n",
    "        Eigen[i] = M[i,i] #By defualt, the Eigenvalue is taken from the diagonal\n",
    "        if i < n #Check to prevent index M[i+1,i] from exceeding bounds of n×n matrix\n",
    "            if abs(M[i+1,i]) > ϵ #Checks if value immediately below the ith diagonal element is non-zero \n",
    "                a, b, c, d = M[i,i], M[i,i+1], M[i+1,i], M[i+1,i+1] #Extracts values of 2×2 matrix\n",
    "                λ = (a + d + ((a + d)^2 -4*(a*d - b*c))^0.5)/2 #Calculates eigenvalue. This one takes the positive imaginary\n",
    "                                                               #solution, we can see below that this eigenvalue pair will be\n",
    "                                                               #picked up again by i+1, in which case will assign the negative\n",
    "                                                               #imaginary solution\n",
    "                Eigen[i] = λ #Assigns Eigenvalue as being λ\n",
    "            end\n",
    "        end\n",
    "        if i > 1 #Similar check as above, prevents M[i,i-1] from exceeding bounds of n×n matrix\n",
    "            if abs(M[i,i-1]) > ϵ #Checks if value immediately to the left of the ith diagonal element is non-zero\n",
    "                                 #Note that this element is still below the diagonal\n",
    "                a, b, c, d = M[i-1,i-1], M[i-1,i], M[i,i-1], M[i,i] #Extracts values of 2×2 matrix\n",
    "                λ = (a + d - ((a + d)^2 -4*(a*d - b*c))^0.5)/2 #Calculates eigenvalue, As the positive imaginary solution was\n",
    "                                                               #picked on the previous iteration, we take the negative\n",
    "                                                               #imaginary solution\n",
    "                Eigen[i] = λ #Assigns Eigenvalue as being λ\n",
    "            end\n",
    "        end\n",
    "    end\n",
    "    return Eigen #Returns list of Eigenvalues\n",
    "end"
   ]
  },
  {
   "cell_type": "code",
   "execution_count": 17,
   "id": "9a9e2300-f2e4-4fb5-ad40-02049758b649",
   "metadata": {},
   "outputs": [
    {
     "data": {
      "text/plain": [
       "hessenqralgorithm"
      ]
     },
     "execution_count": 17,
     "metadata": {},
     "output_type": "execute_result"
    }
   ],
   "source": [
    "\"\"\"\n",
    "Given a square matrix (data in Float64) computes the eigenvalues using the Hessenberg QR algorithm\n",
    "\"\"\"\n",
    "function hessenqralgorithm(M::Matrix{Float64})\n",
    "    A = hessen(M)\n",
    "    n = size(A,1) #Gets dimension of matrix\n",
    "    ϵ = 1e-5 #Error term (used to check when algorithm should terminate)\n",
    "    Q, R = hessenqrdecomp(A) #Calculates QR form of matrix A using hessenberg reduction\n",
    "    newA = R*Q #Calculates next A in sequence by reversing order of QR form\n",
    "    newQ, newR = hessenqrdecomp(newA) #Calculates QR form of this new matrix\n",
    "    while all(diag(abs.(newA - A) .< ϵ)) == false #checks if the diagonal (eigenvalues) of the newA and A are all\n",
    "                                                  #within ϵ of each other and continues iterating if they are not\n",
    "        A, Q, R = newA, newQ, newR #Updates A, Q, and R to be new values\n",
    "        newA = R*Q #Calculates next A in sequence by reversing order of QR form\n",
    "        newQ, newR = hessenqrdecomp(newA) #Calculates QR form of this this new matrix     \n",
    "    end\n",
    "    Eigen = extracteigen(newA, n, ϵ) #Generates list of eigenvalues of orginal matrix (they are the diagonals of newA)\n",
    "    return Eigen #Returns eigenvalues\n",
    "end"
   ]
  }
 ],
 "metadata": {
  "kernelspec": {
   "display_name": "Julia 1.10.4",
   "language": "julia",
   "name": "julia-1.10"
  },
  "language_info": {
   "file_extension": ".jl",
   "mimetype": "application/julia",
   "name": "julia",
   "version": "1.10.4"
  }
 },
 "nbformat": 4,
 "nbformat_minor": 5
}
