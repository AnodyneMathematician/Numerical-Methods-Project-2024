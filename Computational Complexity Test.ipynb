{
 "cells": [
  {
   "cell_type": "code",
   "execution_count": 1,
   "id": "a0785488-892b-4429-90ee-cd42abdf8f75",
   "metadata": {},
   "outputs": [
    {
     "data": {
      "text/plain": [
       "qralgorithm (generic function with 1 method)"
      ]
     },
     "execution_count": 1,
     "metadata": {},
     "output_type": "execute_result"
    }
   ],
   "source": [
    "using LinearAlgebra\n",
    "using Distributions\n",
    "using BenchmarkTools\n",
    "\n",
    "function randmatrix(n::Int64, m::Int64)\n",
    "    p = Float64(m)/Float64(n)^2 #Calculates success rate\n",
    "    M = rand(Bernoulli(p), n, n) #Creates n×n bernoulli matrix (0 and 1s)\n",
    "    N = rand(Uniform(-1,1), n, n) #Creates n×n matrix with values random between -1 and 1\n",
    "    for i = 1:n\n",
    "        for j = 1:n\n",
    "            if M[i,j] == 0\n",
    "                N[i,j] = 0.0 #If value in M is 0, corresponding value in N is changed to 0.0, otherwise, do nothing\n",
    "            end\n",
    "        end\n",
    "    end\n",
    "    return N\n",
    "end\n",
    "\n",
    "function gramschmidt(A::Matrix{Float64})\n",
    "    B = copy(A) #Create output matrix\n",
    "    m = size(A,1) #Extract Dimensions of matrix\n",
    "    n = size(A,2)\n",
    "    for i = 1:m #We will run this for every column vector\n",
    "        veci = B[:,i] #Extact ith vector\n",
    "        uveci = veci ./ norm(veci) #Normalise ith vector\n",
    "        B[:,i] = uveci #Update B to contain normalised vector\n",
    "        for j = i+1:m #We will update all vectors after the ith\n",
    "            vecj = B[:,j] #Extract jth vector\n",
    "            B[:,j] = vecj - (vecj⋅veci).*uveci./norm(veci) #We substract the vector projection of vecj on veci from vecj\n",
    "        end\n",
    "    end\n",
    "    return B #Return matrix B\n",
    "end\n",
    "\n",
    "function qrdecomp(A::Matrix{Float64})\n",
    "    Q = gramschmidt(A) #Calculates Q using gram-schmidt algorithm\n",
    "    R = transpose(Q)*A #Calculates R\n",
    "    return Q, R #Returns the two matrices\n",
    "end\n",
    "\n",
    "function qralgorithm(A::Matrix{Float64})\n",
    "    n = size(A,1) #Gets dimension of matrix\n",
    "    ϵ = 1e-16 #Error term (used to check when algorithm should terminate)\n",
    "    Q, R = qrdecomp(A) #Calculates QR form of matrix A \n",
    "    newA = R*Q #Calculates next A in sequence by reversing order of QR form\n",
    "    newQ, newR = qrdecomp(newA) #Calculates QR form of this new matrix\n",
    "    while all(diag(abs.(newA - A) .< ϵ)) == false #checks if the diagonal (eigenvalues) of the newA and A are all\n",
    "                                                  #within ϵ of each other and continues iterating if they are not\n",
    "        A, Q, R = newA, newQ, newR #Updates A, Q, and R to be new values\n",
    "        newA = R*Q #Calculates next A in sequence by reversing order of QR form\n",
    "        newQ, newR = qrdecomp(newA) #Calculates QR form of this this new matrix     \n",
    "    end\n",
    "    Eigen = diag(newA) #Generates list of eigenvectors of orginal matrix (they are the diagonals of newA)\n",
    "    return Eigen #Returns eigenvalues\n",
    "end"
   ]
  },
  {
   "cell_type": "code",
   "execution_count": null,
   "id": "6f7d7d40-3bd0-4193-ab7c-f663296f205a",
   "metadata": {},
   "outputs": [],
   "source": [
    "o = []\n",
    "time = []\n",
    "for i in 2:100                                            #Set the n-size of matrix\n",
    "    print(\"Processing \",i,\"x\",i)                          #Shows progress of fun\n",
    "    a = randmatrix(i,i)                                   #Generate random matrix\n",
    "    t = @benchmark qralgorithm($a) samples=10 evals=1\n",
    "    push!(o,i)                                            #Fill the list with n-values for x-axis plotting\n",
    "    push!(time, mean(t).time)                             #Fill the list with mean runtime of function for given n-size matrix\n",
    "end"
   ]
  },
  {
   "cell_type": "code",
   "execution_count": null,
   "id": "34c58bd8-4cde-463a-99e3-0398c4137b0c",
   "metadata": {},
   "outputs": [],
   "source": [
    "using Plots\n",
    "plot(o,time)"
   ]
  }
 ],
 "metadata": {
  "kernelspec": {
   "display_name": "Julia 1.10.4",
   "language": "julia",
   "name": "julia-1.10"
  },
  "language_info": {
   "file_extension": ".jl",
   "mimetype": "application/julia",
   "name": "julia",
   "version": "1.10.4"
  }
 },
 "nbformat": 4,
 "nbformat_minor": 5
}
