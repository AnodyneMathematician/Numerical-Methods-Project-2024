{
 "cells": [
  {
   "cell_type": "code",
   "execution_count": 1,
   "id": "0271a68a-d87f-40fb-8cf8-0402cda104e7",
   "metadata": {},
   "outputs": [],
   "source": [
    "using LinearAlgebra\n",
    "using Distributions\n",
    "using BenchmarkTools"
   ]
  },
  {
   "cell_type": "code",
   "execution_count": 2,
   "id": "79175637-1f20-4723-aa09-a8acd838731d",
   "metadata": {},
   "outputs": [
    {
     "data": {
      "text/plain": [
       "house"
      ]
     },
     "execution_count": 2,
     "metadata": {},
     "output_type": "execute_result"
    }
   ],
   "source": [
    "\"\"\"\n",
    "Given a real square matrix M and an integer m, outputs householder reflection of for the mth column\n",
    "\"\"\"\n",
    "function house(M::Matrix, m::Int64, n::Int64, ϵ::Float64) #n is dimensions of matrix, ϵ the error\n",
    "    A = copy(M) #Initialises copy of M\n",
    "    for i = 1:m\n",
    "        A = A[1:n-i+1 .!= 1,: ] #Removes first m rows\n",
    "    end\n",
    "    a = A[:,m] #Extracts mth column (with only n-m elements now)\n",
    "    e = I[1:(n-m), 1] #Creates vector with n-m elements, leading with 1 and all other elements 0\n",
    "    w = a - norm(a)*e #Calculates w\n",
    "    if norm(w) > ϵ\n",
    "        P = Float64.(Matrix(I, n-m, n-m)) - (2w*(w'))/(norm(w)^2) #Calculates householder matrix P\n",
    "    else\n",
    "        P = Float64.(Matrix(I, n-m, n-m))\n",
    "    end\n",
    "    U = Float64.(Matrix(I, n, n)) #Initialises identity matrix\n",
    "    for i = 1:n-m\n",
    "        for j = 1:n-m\n",
    "            U[i+m,j+m] = P[i,j] #Extends P to n×n dimensions by inserting P into the bottom right corner of an identity matrix\n",
    "        end\n",
    "    end\n",
    "    return U #Returns householder transformation U\n",
    "end"
   ]
  },
  {
   "cell_type": "code",
   "execution_count": 3,
   "id": "2ba4cafa-2b9e-487f-a7ee-774e170fd77c",
   "metadata": {},
   "outputs": [
    {
     "data": {
      "text/plain": [
       "hessen"
      ]
     },
     "execution_count": 3,
     "metadata": {},
     "output_type": "execute_result"
    }
   ],
   "source": [
    "\"\"\"\n",
    "Calculates similar hessenberg matrix of a given real square matrix M\n",
    "\"\"\"\n",
    "function hessen(M::Matrix, n::Int64, ϵ::Float64) #n is dimensions of matrix, ϵ the error\n",
    "    A = copy(M) #Initialises copy of M\n",
    "    for i = 1:n-2\n",
    "        U = house(A, i, n, ϵ) #Recursively generates householder transformation\n",
    "        A = U*A*(U') #Applies transformation to A (uses conjugate transpose to retain similarity)\n",
    "    end\n",
    "    return A #Returns hessenberg matrix A\n",
    "end "
   ]
  },
  {
   "cell_type": "code",
   "execution_count": 4,
   "id": "d0e98617-f152-4b9a-8158-c35a0e41baba",
   "metadata": {},
   "outputs": [
    {
     "data": {
      "text/plain": [
       "given"
      ]
     },
     "execution_count": 4,
     "metadata": {},
     "output_type": "execute_result"
    }
   ],
   "source": [
    "\"\"\"\n",
    "Computes Givens Rotation that shifts 2×2 matrix with left column [a b] in to an upper-triangular matrix (bottom left 0)\n",
    "\"\"\"\n",
    "function given(a::ComplexF64, b::ComplexF64, ϵ::Float64) #ϵ is the error\n",
    "    u = (abs2(a) + abs2(b))^0.5 #Calculates norm of vector [a b]\n",
    "    if u > ϵ\n",
    "        c = a/u #Calculates c\n",
    "        s = b/u #Calculates s\n",
    "        G = [conj(c) conj(s); -s c] #Calculates Givens Rotation G\n",
    "        return G #Returns G\n",
    "    else\n",
    "        return [1 0; 0 1]\n",
    "    end\n",
    "end"
   ]
  },
  {
   "cell_type": "code",
   "execution_count": 5,
   "id": "06223a92-f86e-4fad-86f6-155b4531869f",
   "metadata": {},
   "outputs": [
    {
     "data": {
      "text/plain": [
       "hessenqrdecomp"
      ]
     },
     "execution_count": 5,
     "metadata": {},
     "output_type": "execute_result"
    }
   ],
   "source": [
    "\"\"\"\n",
    "Calculates QR form of a real square matrix using Hessenberg reduction and Givens Rotations\n",
    "\"\"\"\n",
    "function hessenqrdecomp(M::Matrix, n::Int64, ϵ::Float64) #n is dimensions of matrix, ϵ the error\n",
    "    A = copy(M)\n",
    "    T = Matrix(I, n, n) #Initialises product of Givens Rotations\n",
    "    for i = 1:n-1 #As Givens rotations are 2×2 matrixs, we only need to do n-1, not n, iterations\n",
    "        a = A[i,i] #Extract arguements for given() function\n",
    "        b = A[i+1,i]\n",
    "        G = given(a, b, ϵ) #Creates Givens Rotation\n",
    "        F = ComplexF64.(Matrix(I, n, n)) #Initialises n×n identity matrix\n",
    "        F[i,i], F[i,i+1], F[i+1,i], F[i+1,i+1] = G[1,1], G[1,2], G[2,1], G[2,2] #Inserts Givens Rotation along the diagonal\n",
    "        T = F*T #Updates product of Givens Rotations\n",
    "        A = F*A #Applies Givens Rotation to A\n",
    "    end\n",
    "    R = A #Calculates R\n",
    "    Q = T' #Calculates Q \n",
    "    return Q, R #Return QR form\n",
    "end"
   ]
  },
  {
   "cell_type": "code",
   "execution_count": 6,
   "id": "0259c45e-f12e-4df1-8830-8e5f2ff098ec",
   "metadata": {},
   "outputs": [
    {
     "data": {
      "text/plain": [
       "francisqrdecomp"
      ]
     },
     "execution_count": 6,
     "metadata": {},
     "output_type": "execute_result"
    }
   ],
   "source": [
    "\"\"\"\n",
    "Given a Complex square matrix M computes one step of the Francis Double Shift modification for the QR algorithm\n",
    "The Algorithm checks bottom left 2×2 submatrix of M.\n",
    "This matrix will have real eigenvalues is the bottom left entry is zero, and complex otherwise.\n",
    "\"\"\"\n",
    "function francisqrdecomp(M::Matrix{ComplexF64}, n::Int64, ϵ::Float64) #n is dimensions of matrix, ϵ the error\n",
    "    if abs(M[n,n-1]) < ϵ #checks if bottom left entry of submatrix is 0, meaning we have real eigenvalues\n",
    "        μ = min(M[n-1,n-1].re, M[n,n].re) #Extracts smaller of the two eigenvalues\n",
    "        T = M - μ*I #Performs shift\n",
    "        Q, R = hessenqrdecomp(T,n, ϵ) #Performs hessenberg decomposition\n",
    "        M = R*Q + μ*I #Corrects shift\n",
    "    else #In this case, the eigenvalues are complex\n",
    "        a, b, c, d = M[n-1,n-1], M[n-1,n], M[n,n-1], M[n,n] #Extracts entries of 2×w matrix\n",
    "        μ1 = (a + d + ((a + d)^2 -4*(a*d - b*c))^0.5)/2 #Calculates both eigenvalues analytically\n",
    "        μ2 = (a + d - ((a + d)^2 -4*(a*d - b*c))^0.5)/2\n",
    "        T = M - μ1*I #Performs shift\n",
    "        Q, R = hessenqrdecomp(T, n, ϵ) #Performs hessenberg decomposition\n",
    "        M = R*Q + μ1*I #Corrects shift\n",
    "        T = M - μ2*I #Performs second shift\n",
    "        Q, R = hessenqrdecomp(T, n, ϵ) #Performs hessenberg decomposition\n",
    "        M = R*Q + μ2*I #Corrects second shift\n",
    "    end\n",
    "    return M #Returns modified matrix\n",
    "end"
   ]
  },
  {
   "cell_type": "code",
   "execution_count": 7,
   "id": "61aba544-b435-4a47-9309-15d18cb8b077",
   "metadata": {},
   "outputs": [
    {
     "data": {
      "text/plain": [
       "extracteigen"
      ]
     },
     "execution_count": 7,
     "metadata": {},
     "output_type": "execute_result"
    }
   ],
   "source": [
    "\"\"\"\n",
    "Extracts Eigenvalues from a n×n square matrix in Shur form (derived from real matrix).\n",
    "Eigenvalues are either on the leading diagonal, or are solved analytically from a 2×w matrix in the case they are complex \n",
    "conjugates.\n",
    "We can check if the eigenvalue on the diagonal is part of such a pair by checking if there is a non-zero element \n",
    "below the diagonal\n",
    "\"\"\"\n",
    "function extracteigen(M::Matrix, n::Int64, ϵ::Float64) #n is the dimensions of matrix, ϵ is error tolerance\n",
    "    Eigen = zeros(Complex{Float64}, n) #Initialises vector of n eigenvalues\n",
    "    M = ComplexF64.(M) #Converts matrix into complex form\n",
    "    for i = 1:n #Recursively checks over all the leading diagonal\n",
    "        Eigen[i] = M[i,i] #By defualt, the Eigenvalue is taken from the diagonal\n",
    "        if i < n #Check to prevent index M[i+1,i] from exceeding bounds of n×n matrix\n",
    "            if abs(M[i+1,i]) > ϵ #Checks if value immediately below the ith diagonal element is non-zero \n",
    "                a, b, c, d = M[i,i], M[i,i+1], M[i+1,i], M[i+1,i+1] #Extracts values of 2×2 matrix\n",
    "                λ = (a + d + ((a + d)^2 -4*(a*d - b*c))^0.5)/2 #Calculates eigenvalue. This one takes the positive imaginary\n",
    "                                                               #solution, we can see below that this eigenvalue pair will be\n",
    "                                                               #picked up again by i+1, in which case will assign the negative\n",
    "                                                               #imaginary solution\n",
    "                Eigen[i] = λ #Assigns Eigenvalue as being λ\n",
    "            end\n",
    "        end\n",
    "        if i > 1 #Similar check as above, prevents M[i,i-1] from exceeding bounds of n×n matrix\n",
    "            if abs(M[i,i-1]) > ϵ #Checks if value immediately to the left of the ith diagonal element is non-zero\n",
    "                                 #Note that this element is still below the diagonal\n",
    "                a, b, c, d = M[i-1,i-1], M[i-1,i], M[i,i-1], M[i,i] #Extracts values of 2×2 matrix\n",
    "                λ = (a + d - ((a + d)^2 -4*(a*d - b*c))^0.5)/2 #Calculates eigenvalue, As the positive imaginary solution was\n",
    "                                                               #picked on the previous iteration, we take the negative\n",
    "                                                               #imaginary solution\n",
    "                Eigen[i] = λ #Assigns Eigenvalue as being λ\n",
    "            end\n",
    "        end\n",
    "    end\n",
    "    return Eigen #Returns list of Eigenvalues\n",
    "end"
   ]
  },
  {
   "cell_type": "code",
   "execution_count": 8,
   "id": "6d913d6d-fb67-47ba-909c-b6d94647cfed",
   "metadata": {},
   "outputs": [
    {
     "data": {
      "text/plain": [
       "numiter"
      ]
     },
     "execution_count": 8,
     "metadata": {},
     "output_type": "execute_result"
    }
   ],
   "source": [
    "\"\"\"\n",
    "Given a real square matrix M, calculates eigenvalues uses QR algorith.\n",
    "Uses Hessenberg Decomposition and Francis Double Shifts for increased efficiency\n",
    "\"\"\"\n",
    "function numiter(M::Matrix{Float64})\n",
    "    c = 0\n",
    "    M = ComplexF64.(M) #Converts matrix into complex form\n",
    "    n = size(M, 1) #Calcaulates size of matrix (assumed square)\n",
    "    ϵ1 = 1e-5 #Error term (used to check when algorithm should terminate)\n",
    "    ϵ2 = (ϵ1)^2 #Sqaure of Error term (used to avoid having to take square root of complex numbers)\n",
    "    A = hessen(M, n, ϵ1) #Reduces matrix to hessenberg form\n",
    "    newA = francisqrdecomp(A, n, ϵ1) #Performs francis double shift QR decomposition\n",
    "    Eigen = extracteigen(A, n, ϵ1) #Makes list of eigenvalues of A\n",
    "    newEigen = extracteigen(newA, n, ϵ1) #Makes list of eigenvalues of newA\n",
    "    while all(abs2.(Eigen-newEigen) .< ϵ2) == false #checks if the eigenvalues of the newA and A are all within ϵ1\n",
    "                                                    #of each other and continues iterating if they are not\n",
    "        A = newA #Updates A\n",
    "        newA = francisqrdecomp(A, n, ϵ1) #Computes newA\n",
    "        Eigen = newEigen #Updates list of eigenvalues of A\n",
    "        newEigen = extracteigen(newA, n, ϵ1) #Updates list of eigenvalues of newA\n",
    "        c = c + 1\n",
    "    end\n",
    "    for i in 1:n #Iterates over all eigenvalues\n",
    "        if abs2(newEigen[i].im) < ϵ2 #Checks if imaginary part of eigenvalue is within ϵ1 of 0\n",
    "            newEigen[i] = ComplexF64(newEigen[i].re) #If so, removes imaginary component so that the eigenvalue is real\n",
    "        end\n",
    "        if abs2(newEigen[i].re) < ϵ2 #Checks if real part of eigenvale is within ϵ1 of 0\n",
    "            newEigen[i] = ComplexF64(newEigen[i].im) #If so, removes real component so that the eigenvalue is imaginary\n",
    "        end\n",
    "    end\n",
    "    return c #Returns number of iterations\n",
    "end"
   ]
  },
  {
   "cell_type": "code",
   "execution_count": null,
   "id": "2939d626-8469-4ef9-a619-d19f33d8c46d",
   "metadata": {},
   "outputs": [],
   "source": [
    "x=collect([2:1:10;])\n",
    "o = []\n",
    "iterations = []\n",
    "for i in 2:10                                       #Set the n-size of matrix\n",
    "    av=[]\n",
    "    print(\"Processing \",i,\"x\",i)                          #Shows progress of fun\n",
    "    for j in 1:10\n",
    "        a = rand(i,i)\n",
    "        t = numiter(a)      #Collects number of iterations\n",
    "        push!(av, t)        \n",
    "    end\n",
    "    push!(o,i)                                            #Fill the list with n-values for x-axis plotting\n",
    "    push!(iterations, median(av))                             #Fill the list with mean numberof iterations of function for given n-size matrix\n",
    "end"
   ]
  },
  {
   "cell_type": "code",
   "execution_count": 12,
   "id": "563305f7-e094-49ae-ae88-2931116fccde",
   "metadata": {},
   "outputs": [
    {
     "data": {
      "image/png": "[encoded data removed]",
      "image/svg+xml": [
       "<?xml version=\"1.0\" encoding=\"utf-8\"?>\n",
       "<svg xmlns=\"http://www.w3.org/2000/svg\" xmlns:xlink=\"http://www.w3.org/1999/xlink\" width=\"600\" height=\"400\" viewBox=\"0 0 2400 1600\">\n",
       "<defs>\n",
       "  <clipPath id=\"clip430\">\n",
       "    <rect x=\"0\" y=\"0\" width=\"2400\" height=\"1600\"/>\n",
       "  </clipPath>\n",
       "</defs>\n",
       "<path clip-path=\"url(#clip430)\" d=\"M0 1600 L2400 1600 L2400 0 L0 0  Z\" fill=\"#ffffff\" fill-rule=\"evenodd\" fill-opacity=\"1\"/>\n",
       "<defs>\n",
       "  <clipPath id=\"clip431\">\n",
       "    <rect x=\"480\" y=\"0\" width=\"1681\" height=\"1600\"/>\n",
       "  </clipPath>\n",
       "</defs>\n",
       "<path clip-path=\"url(#clip430)\" d=\"M204.86 1423.18 L2352.76 1423.18 L2352.76 47.2441 L204.86 47.2441  Z\" fill=\"#ffffff\" fill-rule=\"evenodd\" fill-opacity=\"1\"/>\n",
       "<defs>\n",
       "  <clipPath id=\"clip432\">\n",
       "    <rect x=\"204\" y=\"47\" width=\"2149\" height=\"1377\"/>\n",
       "  </clipPath>\n",
       "</defs>\n",
       "<polyline clip-path=\"url(#clip432)\" style=\"stroke:#000000; stroke-linecap:round; stroke-linejoin:round; stroke-width:2; stroke-opacity:0.1; fill:none\" points=\"265.65,1423.18 265.65,47.2441 \"/>\n",
       "<polyline clip-path=\"url(#clip432)\" style=\"stroke:#000000; stroke-linecap:round; stroke-linejoin:round; stroke-width:2; stroke-opacity:0.1; fill:none\" points=\"941.089,1423.18 941.089,47.2441 \"/>\n",
       "<polyline clip-path=\"url(#clip432)\" style=\"stroke:#000000; stroke-linecap:round; stroke-linejoin:round; stroke-width:2; stroke-opacity:0.1; fill:none\" points=\"1616.53,1423.18 1616.53,47.2441 \"/>\n",
       "<polyline clip-path=\"url(#clip432)\" style=\"stroke:#000000; stroke-linecap:round; stroke-linejoin:round; stroke-width:2; stroke-opacity:0.1; fill:none\" points=\"2291.97,1423.18 2291.97,47.2441 \"/>\n",
       "<polyline clip-path=\"url(#clip432)\" style=\"stroke:#000000; stroke-linecap:round; stroke-linejoin:round; stroke-width:2; stroke-opacity:0.1; fill:none\" points=\"204.86,1418.34 2352.76,1418.34 \"/>\n",
       "<polyline clip-path=\"url(#clip432)\" style=\"stroke:#000000; stroke-linecap:round; stroke-linejoin:round; stroke-width:2; stroke-opacity:0.1; fill:none\" points=\"204.86,1178.55 2352.76,1178.55 \"/>\n",
       "<polyline clip-path=\"url(#clip432)\" style=\"stroke:#000000; stroke-linecap:round; stroke-linejoin:round; stroke-width:2; stroke-opacity:0.1; fill:none\" points=\"204.86,938.765 2352.76,938.765 \"/>\n",
       "<polyline clip-path=\"url(#clip432)\" style=\"stroke:#000000; stroke-linecap:round; stroke-linejoin:round; stroke-width:2; stroke-opacity:0.1; fill:none\" points=\"204.86,698.977 2352.76,698.977 \"/>\n",
       "<polyline clip-path=\"url(#clip432)\" style=\"stroke:#000000; stroke-linecap:round; stroke-linejoin:round; stroke-width:2; stroke-opacity:0.1; fill:none\" points=\"204.86,459.189 2352.76,459.189 \"/>\n",
       "<polyline clip-path=\"url(#clip432)\" style=\"stroke:#000000; stroke-linecap:round; stroke-linejoin:round; stroke-width:2; stroke-opacity:0.1; fill:none\" points=\"204.86,219.401 2352.76,219.401 \"/>\n",
       "<polyline clip-path=\"url(#clip430)\" style=\"stroke:#000000; stroke-linecap:round; stroke-linejoin:round; stroke-width:4; stroke-opacity:1; fill:none\" points=\"204.86,1423.18 2352.76,1423.18 \"/>\n",
       "<polyline clip-path=\"url(#clip430)\" style=\"stroke:#000000; stroke-linecap:round; stroke-linejoin:round; stroke-width:4; stroke-opacity:1; fill:none\" points=\"265.65,1423.18 265.65,1404.28 \"/>\n",
       "<polyline clip-path=\"url(#clip430)\" style=\"stroke:#000000; stroke-linecap:round; stroke-linejoin:round; stroke-width:4; stroke-opacity:1; fill:none\" points=\"941.089,1423.18 941.089,1404.28 \"/>\n",
       "<polyline clip-path=\"url(#clip430)\" style=\"stroke:#000000; stroke-linecap:round; stroke-linejoin:round; stroke-width:4; stroke-opacity:1; fill:none\" points=\"1616.53,1423.18 1616.53,1404.28 \"/>\n",
       "<polyline clip-path=\"url(#clip430)\" style=\"stroke:#000000; stroke-linecap:round; stroke-linejoin:round; stroke-width:4; stroke-opacity:1; fill:none\" points=\"2291.97,1423.18 2291.97,1404.28 \"/>\n",
       "<path clip-path=\"url(#clip430)\" d=\"M260.302 1481.64 L276.622 1481.64 L276.622 1485.58 L254.677 1485.58 L254.677 1481.64 Q257.339 1478.89 261.923 1474.26 Q266.529 1469.61 267.71 1468.27 Q269.955 1465.74 270.835 1464.01 Q271.738 1462.25 271.738 1460.56 Q271.738 1457.8 269.793 1456.07 Q267.872 1454.33 264.77 1454.33 Q262.571 1454.33 260.117 1455.09 Q257.687 1455.86 254.909 1457.41 L254.909 1452.69 Q257.733 1451.55 260.187 1450.97 Q262.64 1450.39 264.677 1450.39 Q270.048 1450.39 273.242 1453.08 Q276.437 1455.77 276.437 1460.26 Q276.437 1462.39 275.626 1464.31 Q274.839 1466.2 272.733 1468.8 Q272.154 1469.47 269.052 1472.69 Q265.951 1475.88 260.302 1481.64 Z\" fill=\"#000000\" fill-rule=\"nonzero\" fill-opacity=\"1\" /><path clip-path=\"url(#clip430)\" d=\"M945.336 1466.95 Q948.693 1467.66 950.568 1469.93 Q952.466 1472.2 952.466 1475.53 Q952.466 1480.65 948.947 1483.45 Q945.429 1486.25 938.947 1486.25 Q936.771 1486.25 934.457 1485.81 Q932.165 1485.39 929.711 1484.54 L929.711 1480.02 Q931.656 1481.16 933.971 1481.74 Q936.285 1482.32 938.808 1482.32 Q943.207 1482.32 945.498 1480.58 Q947.813 1478.84 947.813 1475.53 Q947.813 1472.48 945.66 1470.77 Q943.531 1469.03 939.711 1469.03 L935.683 1469.03 L935.683 1465.19 L939.896 1465.19 Q943.345 1465.19 945.174 1463.82 Q947.003 1462.43 947.003 1459.84 Q947.003 1457.18 945.105 1455.77 Q943.23 1454.33 939.711 1454.33 Q937.79 1454.33 935.591 1454.75 Q933.392 1455.16 930.753 1456.04 L930.753 1451.88 Q933.415 1451.14 935.73 1450.77 Q938.068 1450.39 940.128 1450.39 Q945.452 1450.39 948.554 1452.83 Q951.656 1455.23 951.656 1459.35 Q951.656 1462.22 950.012 1464.21 Q948.369 1466.18 945.336 1466.95 Z\" fill=\"#000000\" fill-rule=\"nonzero\" fill-opacity=\"1\" /><path clip-path=\"url(#clip430)\" d=\"M1619.54 1455.09 L1607.73 1473.54 L1619.54 1473.54 L1619.54 1455.09 M1618.31 1451.02 L1624.19 1451.02 L1624.19 1473.54 L1629.12 1473.54 L1629.12 1477.43 L1624.19 1477.43 L1624.19 1485.58 L1619.54 1485.58 L1619.54 1477.43 L1603.93 1477.43 L1603.93 1472.92 L1618.31 1451.02 Z\" fill=\"#000000\" fill-rule=\"nonzero\" fill-opacity=\"1\" /><path clip-path=\"url(#clip430)\" d=\"M2282.24 1451.02 L2300.6 1451.02 L2300.6 1454.96 L2286.53 1454.96 L2286.53 1463.43 Q2287.55 1463.08 2288.56 1462.92 Q2289.58 1462.73 2290.6 1462.73 Q2296.39 1462.73 2299.77 1465.9 Q2303.15 1469.08 2303.15 1474.49 Q2303.15 1480.07 2299.67 1483.17 Q2296.2 1486.25 2289.88 1486.25 Q2287.71 1486.25 2285.44 1485.88 Q2283.19 1485.51 2280.79 1484.77 L2280.79 1480.07 Q2282.87 1481.2 2285.09 1481.76 Q2287.31 1482.32 2289.79 1482.32 Q2293.8 1482.32 2296.13 1480.21 Q2298.47 1478.1 2298.47 1474.49 Q2298.47 1470.88 2296.13 1468.77 Q2293.8 1466.67 2289.79 1466.67 Q2287.92 1466.67 2286.04 1467.08 Q2284.19 1467.5 2282.24 1468.38 L2282.24 1451.02 Z\" fill=\"#000000\" fill-rule=\"nonzero\" fill-opacity=\"1\" /><path clip-path=\"url(#clip430)\" d=\"M1135.48 1546.53 L1135.48 1568.04 L1129.63 1568.04 L1129.63 1546.72 Q1129.63 1541.66 1127.65 1539.14 Q1125.68 1536.63 1121.73 1536.63 Q1116.99 1536.63 1114.25 1539.65 Q1111.52 1542.68 1111.52 1547.9 L1111.52 1568.04 L1105.63 1568.04 L1105.63 1532.4 L1111.52 1532.4 L1111.52 1537.93 Q1113.62 1534.72 1116.45 1533.13 Q1119.32 1531.54 1123.04 1531.54 Q1129.18 1531.54 1132.33 1535.36 Q1135.48 1539.14 1135.48 1546.53 Z\" fill=\"#000000\" fill-rule=\"nonzero\" fill-opacity=\"1\" /><path clip-path=\"url(#clip430)\" d=\"M1176.8 1532.4 L1163.91 1549.74 L1177.47 1568.04 L1170.56 1568.04 L1160.18 1554.04 L1149.81 1568.04 L1142.9 1568.04 L1156.75 1549.39 L1144.08 1532.4 L1150.98 1532.4 L1160.44 1545.1 L1169.89 1532.4 L1176.8 1532.4 Z\" fill=\"#000000\" fill-rule=\"nonzero\" fill-opacity=\"1\" /><path clip-path=\"url(#clip430)\" d=\"M1215.37 1546.53 L1215.37 1568.04 L1209.52 1568.04 L1209.52 1546.72 Q1209.52 1541.66 1207.54 1539.14 Q1205.57 1536.63 1201.62 1536.63 Q1196.88 1536.63 1194.14 1539.65 Q1191.41 1542.68 1191.41 1547.9 L1191.41 1568.04 L1185.52 1568.04 L1185.52 1532.4 L1191.41 1532.4 L1191.41 1537.93 Q1193.51 1534.72 1196.34 1533.13 Q1199.2 1531.54 1202.93 1531.54 Q1209.07 1531.54 1212.22 1535.36 Q1215.37 1539.14 1215.37 1546.53 Z\" fill=\"#000000\" fill-rule=\"nonzero\" fill-opacity=\"1\" /><path clip-path=\"url(#clip430)\" d=\"M1275.53 1539.24 Q1277.73 1535.29 1280.78 1533.41 Q1283.84 1531.54 1287.97 1531.54 Q1293.54 1531.54 1296.57 1535.45 Q1299.59 1539.33 1299.59 1546.53 L1299.59 1568.04 L1293.7 1568.04 L1293.7 1546.72 Q1293.7 1541.59 1291.89 1539.11 Q1290.08 1536.63 1286.35 1536.63 Q1281.8 1536.63 1279.16 1539.65 Q1276.52 1542.68 1276.52 1547.9 L1276.52 1568.04 L1270.63 1568.04 L1270.63 1546.72 Q1270.63 1541.56 1268.81 1539.11 Q1267 1536.63 1263.21 1536.63 Q1258.72 1536.63 1256.08 1539.68 Q1253.44 1542.71 1253.44 1547.9 L1253.44 1568.04 L1247.55 1568.04 L1247.55 1532.4 L1253.44 1532.4 L1253.44 1537.93 Q1255.45 1534.66 1258.25 1533.1 Q1261.05 1531.54 1264.9 1531.54 Q1268.78 1531.54 1271.49 1533.51 Q1274.22 1535.48 1275.53 1539.24 Z\" fill=\"#000000\" fill-rule=\"nonzero\" fill-opacity=\"1\" /><path clip-path=\"url(#clip430)\" d=\"M1327.47 1550.12 Q1320.38 1550.12 1317.64 1551.75 Q1314.9 1553.37 1314.9 1557.29 Q1314.9 1560.4 1316.94 1562.25 Q1319.01 1564.07 1322.54 1564.07 Q1327.41 1564.07 1330.34 1560.63 Q1333.3 1557.16 1333.3 1551.43 L1333.3 1550.12 L1327.47 1550.12 M1339.15 1547.71 L1339.15 1568.04 L1333.3 1568.04 L1333.3 1562.63 Q1331.29 1565.88 1328.3 1567.44 Q1325.31 1568.97 1320.98 1568.97 Q1315.51 1568.97 1312.26 1565.91 Q1309.05 1562.82 1309.05 1557.67 Q1309.05 1551.65 1313.06 1548.6 Q1317.1 1545.54 1325.09 1545.54 L1333.3 1545.54 L1333.3 1544.97 Q1333.3 1540.93 1330.62 1538.73 Q1327.98 1536.5 1323.18 1536.5 Q1320.12 1536.5 1317.23 1537.23 Q1314.33 1537.97 1311.66 1539.43 L1311.66 1534.02 Q1314.87 1532.78 1317.89 1532.17 Q1320.92 1531.54 1323.78 1531.54 Q1331.52 1531.54 1335.34 1535.55 Q1339.15 1539.56 1339.15 1547.71 Z\" fill=\"#000000\" fill-rule=\"nonzero\" fill-opacity=\"1\" /><path clip-path=\"url(#clip430)\" d=\"M1357.01 1522.27 L1357.01 1532.4 L1369.07 1532.4 L1369.07 1536.95 L1357.01 1536.95 L1357.01 1556.3 Q1357.01 1560.66 1358.19 1561.9 Q1359.4 1563.14 1363.06 1563.14 L1369.07 1563.14 L1369.07 1568.04 L1363.06 1568.04 Q1356.28 1568.04 1353.7 1565.53 Q1351.12 1562.98 1351.12 1556.3 L1351.12 1536.95 L1346.83 1536.95 L1346.83 1532.4 L1351.12 1532.4 L1351.12 1522.27 L1357.01 1522.27 Z\" fill=\"#000000\" fill-rule=\"nonzero\" fill-opacity=\"1\" /><path clip-path=\"url(#clip430)\" d=\"M1397.43 1537.87 Q1396.45 1537.3 1395.27 1537.04 Q1394.12 1536.76 1392.72 1536.76 Q1387.76 1536.76 1385.08 1540 Q1382.44 1543.22 1382.44 1549.27 L1382.44 1568.04 L1376.55 1568.04 L1376.55 1532.4 L1382.44 1532.4 L1382.44 1537.93 Q1384.29 1534.69 1387.25 1533.13 Q1390.21 1531.54 1394.44 1531.54 Q1395.05 1531.54 1395.78 1531.63 Q1396.51 1531.7 1397.4 1531.85 L1397.43 1537.87 Z\" fill=\"#000000\" fill-rule=\"nonzero\" fill-opacity=\"1\" /><path clip-path=\"url(#clip430)\" d=\"M1403.58 1532.4 L1409.43 1532.4 L1409.43 1568.04 L1403.58 1568.04 L1403.58 1532.4 M1403.58 1518.52 L1409.43 1518.52 L1409.43 1525.93 L1403.58 1525.93 L1403.58 1518.52 Z\" fill=\"#000000\" fill-rule=\"nonzero\" fill-opacity=\"1\" /><path clip-path=\"url(#clip430)\" d=\"M1451.32 1532.4 L1438.43 1549.74 L1451.99 1568.04 L1445.08 1568.04 L1434.7 1554.04 L1424.33 1568.04 L1417.42 1568.04 L1431.27 1549.39 L1418.6 1532.4 L1425.51 1532.4 L1434.96 1545.1 L1444.41 1532.4 L1451.32 1532.4 Z\" fill=\"#000000\" fill-rule=\"nonzero\" fill-opacity=\"1\" /><polyline clip-path=\"url(#clip430)\" style=\"stroke:#000000; stroke-linecap:round; stroke-linejoin:round; stroke-width:4; stroke-opacity:1; fill:none\" points=\"204.86,1423.18 204.86,47.2441 \"/>\n",
       "<polyline clip-path=\"url(#clip430)\" style=\"stroke:#000000; stroke-linecap:round; stroke-linejoin:round; stroke-width:4; stroke-opacity:1; fill:none\" points=\"204.86,1418.34 223.758,1418.34 \"/>\n",
       "<polyline clip-path=\"url(#clip430)\" style=\"stroke:#000000; stroke-linecap:round; stroke-linejoin:round; stroke-width:4; stroke-opacity:1; fill:none\" points=\"204.86,1178.55 223.758,1178.55 \"/>\n",
       "<polyline clip-path=\"url(#clip430)\" style=\"stroke:#000000; stroke-linecap:round; stroke-linejoin:round; stroke-width:4; stroke-opacity:1; fill:none\" points=\"204.86,938.765 223.758,938.765 \"/>\n",
       "<polyline clip-path=\"url(#clip430)\" style=\"stroke:#000000; stroke-linecap:round; stroke-linejoin:round; stroke-width:4; stroke-opacity:1; fill:none\" points=\"204.86,698.977 223.758,698.977 \"/>\n",
       "<polyline clip-path=\"url(#clip430)\" style=\"stroke:#000000; stroke-linecap:round; stroke-linejoin:round; stroke-width:4; stroke-opacity:1; fill:none\" points=\"204.86,459.189 223.758,459.189 \"/>\n",
       "<polyline clip-path=\"url(#clip430)\" style=\"stroke:#000000; stroke-linecap:round; stroke-linejoin:round; stroke-width:4; stroke-opacity:1; fill:none\" points=\"204.86,219.401 223.758,219.401 \"/>\n",
       "<path clip-path=\"url(#clip430)\" d=\"M156.217 1404.35 Q152.607 1404.41 150.841 1408.01 Q149.097 1411.58 149.222 1418.71 Q149.346 1425.82 151.213 1429.35 Q153.103 1432.86 156.714 1432.8 Q160.348 1432.73 162.091 1429.16 Q163.857 1425.56 163.733 1418.46 Q163.609 1411.33 161.719 1407.82 Q159.851 1404.29 156.217 1404.35 M156.153 1400.65 Q161.962 1400.55 165.097 1405.1 Q168.256 1409.63 168.408 1418.38 Q168.561 1427.1 165.563 1431.76 Q162.588 1436.4 156.778 1436.5 Q150.969 1436.6 147.811 1432.07 Q144.676 1427.52 144.523 1418.79 Q144.371 1410.04 147.346 1405.41 Q150.343 1400.75 156.153 1400.65 Z\" fill=\"#000000\" fill-rule=\"nonzero\" fill-opacity=\"1\" /><path clip-path=\"url(#clip430)\" d=\"M147.207 1161.64 L165.56 1161.32 L165.629 1165.26 L151.557 1165.5 L151.705 1173.97 Q152.717 1173.61 153.733 1173.43 Q154.748 1173.22 155.766 1173.21 Q161.552 1173.11 164.987 1176.22 Q168.421 1179.33 168.516 1184.74 Q168.613 1190.32 165.196 1193.48 Q161.778 1196.62 155.459 1196.73 Q153.284 1196.77 151.009 1196.44 Q148.758 1196.11 146.338 1195.41 L146.256 1190.71 Q148.358 1191.81 150.59 1192.33 Q152.822 1192.84 155.298 1192.8 Q159.302 1192.73 161.603 1190.58 Q163.904 1188.44 163.841 1184.83 Q163.778 1181.22 161.403 1179.15 Q159.029 1177.08 155.025 1177.15 Q153.15 1177.19 151.283 1177.64 Q149.438 1178.09 147.51 1179 L147.207 1161.64 Z\" fill=\"#000000\" fill-rule=\"nonzero\" fill-opacity=\"1\" /><path clip-path=\"url(#clip430)\" d=\"M117.352 953.003 L124.99 952.87 L124.53 926.509 L116.25 928.32 L116.176 924.061 L124.409 922.251 L129.085 922.169 L129.619 952.789 L137.257 952.656 L137.325 956.591 L117.421 956.938 L117.352 953.003 Z\" fill=\"#000000\" fill-rule=\"nonzero\" fill-opacity=\"1\" /><path clip-path=\"url(#clip430)\" d=\"M156.217 924.775 Q152.607 924.838 150.841 928.434 Q149.097 932.006 149.222 939.135 Q149.346 946.24 151.213 949.773 Q153.103 953.282 156.714 953.219 Q160.348 953.156 162.091 949.583 Q163.857 945.987 163.733 938.882 Q163.609 931.753 161.719 928.244 Q159.851 924.711 156.217 924.775 M156.153 921.072 Q161.962 920.97 165.097 925.523 Q168.256 930.051 168.408 938.8 Q168.561 947.526 165.563 952.185 Q162.588 956.821 156.778 956.922 Q150.969 957.024 147.811 952.495 Q144.676 947.942 144.523 939.217 Q144.371 930.468 147.346 925.832 Q150.343 921.173 156.153 921.072 Z\" fill=\"#000000\" fill-rule=\"nonzero\" fill-opacity=\"1\" /><path clip-path=\"url(#clip430)\" d=\"M118.348 713.198 L125.985 713.065 L125.525 686.703 L117.245 688.515 L117.171 684.256 L125.405 682.445 L130.08 682.364 L130.614 712.984 L138.252 712.851 L138.321 716.785 L118.416 717.133 L118.348 713.198 Z\" fill=\"#000000\" fill-rule=\"nonzero\" fill-opacity=\"1\" /><path clip-path=\"url(#clip430)\" d=\"M147.207 682.065 L165.56 681.744 L165.629 685.679 L151.557 685.925 L151.705 694.395 Q152.717 694.031 153.733 693.851 Q154.748 693.648 155.766 693.63 Q161.552 693.529 164.987 696.641 Q168.421 699.753 168.516 705.168 Q168.613 710.746 165.196 713.908 Q161.778 717.047 155.459 717.157 Q153.284 717.195 151.009 716.865 Q148.758 716.534 146.338 715.835 L146.256 711.137 Q148.358 712.234 150.59 712.751 Q152.822 713.268 155.298 713.224 Q159.302 713.155 161.603 711.008 Q163.904 708.861 163.841 705.25 Q163.778 701.64 161.403 699.574 Q159.029 697.509 155.025 697.579 Q153.15 697.611 151.283 698.061 Q149.438 698.51 147.51 699.423 L147.207 682.065 Z\" fill=\"#000000\" fill-rule=\"nonzero\" fill-opacity=\"1\" /><path clip-path=\"url(#clip430)\" d=\"M120.57 473.371 L136.886 473.086 L136.955 477.021 L115.014 477.404 L114.945 473.469 Q117.559 470.669 122.061 465.96 Q126.585 461.227 127.742 459.864 Q129.943 457.302 130.792 455.551 Q131.664 453.777 131.635 452.087 Q131.587 449.333 129.612 447.631 Q127.661 445.929 124.56 445.983 Q122.361 446.021 119.921 446.828 Q117.504 447.634 114.754 449.233 L114.671 444.512 Q117.475 443.328 119.919 442.707 Q122.362 442.085 124.398 442.05 Q129.768 441.956 133.009 444.585 Q136.25 447.214 136.328 451.704 Q136.365 453.833 135.589 455.769 Q134.835 457.68 132.774 460.309 Q132.207 460.99 129.162 464.262 Q126.116 467.51 120.57 473.371 Z\" fill=\"#000000\" fill-rule=\"nonzero\" fill-opacity=\"1\" /><path clip-path=\"url(#clip430)\" d=\"M156.217 445.199 Q152.607 445.262 150.841 448.858 Q149.097 452.43 149.222 459.559 Q149.346 466.664 151.213 470.197 Q153.103 473.706 156.714 473.643 Q160.348 473.58 162.091 470.007 Q163.857 466.411 163.733 459.306 Q163.609 452.177 161.719 448.668 Q159.851 445.135 156.217 445.199 M156.153 441.495 Q161.962 441.394 165.097 445.947 Q168.256 450.475 168.408 459.224 Q168.561 467.949 165.563 472.609 Q162.588 477.245 156.778 477.346 Q150.969 477.448 147.811 472.919 Q144.676 468.366 144.523 459.641 Q144.371 450.892 147.346 446.256 Q150.343 441.597 156.153 441.495 Z\" fill=\"#000000\" fill-rule=\"nonzero\" fill-opacity=\"1\" /><path clip-path=\"url(#clip430)\" d=\"M121.565 233.566 L137.882 233.281 L137.95 237.216 L116.009 237.599 L115.941 233.664 Q118.554 230.863 123.056 226.154 Q127.581 221.422 128.737 220.059 Q130.938 217.497 131.788 215.746 Q132.66 213.971 132.63 212.282 Q132.582 209.527 130.608 207.825 Q128.656 206.123 125.555 206.177 Q123.356 206.216 120.916 207.022 Q118.499 207.828 115.749 209.428 L115.667 204.706 Q118.471 203.523 120.914 202.901 Q123.357 202.28 125.394 202.244 Q130.763 202.151 134.004 204.78 Q137.245 207.409 137.323 211.899 Q137.36 214.028 136.584 215.963 Q135.83 217.875 133.769 220.504 Q133.202 221.185 130.157 224.456 Q127.111 227.704 121.565 233.566 Z\" fill=\"#000000\" fill-rule=\"nonzero\" fill-opacity=\"1\" /><path clip-path=\"url(#clip430)\" d=\"M147.207 202.489 L165.56 202.168 L165.629 206.103 L151.557 206.349 L151.705 214.819 Q152.717 214.454 153.733 214.275 Q154.748 214.072 155.766 214.054 Q161.552 213.953 164.987 217.065 Q168.421 220.177 168.516 225.592 Q168.613 231.17 165.196 234.332 Q161.778 237.471 155.459 237.581 Q153.284 237.619 151.009 237.289 Q148.758 236.957 146.338 236.259 L146.256 231.56 Q148.358 232.658 150.59 233.175 Q152.822 233.692 155.298 233.648 Q159.302 233.578 161.603 231.432 Q163.904 229.285 163.841 225.674 Q163.778 222.063 161.403 219.998 Q159.029 217.933 155.025 218.003 Q153.15 218.035 151.283 218.485 Q149.438 218.934 147.51 219.847 L147.207 202.489 Z\" fill=\"#000000\" fill-rule=\"nonzero\" fill-opacity=\"1\" /><path clip-path=\"url(#clip430)\" d=\"M42.4881 1034.81 L64.0042 1034.81 L64.0042 1040.67 L42.679 1040.67 Q37.6183 1040.67 35.1038 1042.64 Q32.5894 1044.62 32.5894 1048.56 Q32.5894 1053.31 35.6131 1056.04 Q38.6368 1058.78 43.8567 1058.78 L64.0042 1058.78 L64.0042 1064.67 L28.3562 1064.67 L28.3562 1058.78 L33.8944 1058.78 Q30.6797 1056.68 29.0883 1053.85 Q27.4968 1050.98 27.4968 1047.26 Q27.4968 1041.12 31.3163 1037.96 Q35.1038 1034.81 42.4881 1034.81 Z\" fill=\"#000000\" fill-rule=\"nonzero\" fill-opacity=\"1\" /><path clip-path=\"url(#clip430)\" d=\"M49.9359 1023.74 L28.3562 1023.74 L28.3562 1017.88 L49.7131 1017.88 Q54.7739 1017.88 57.3202 1015.91 Q59.8346 1013.93 59.8346 1009.99 Q59.8346 1005.25 56.8109 1002.51 Q53.7872 999.739 48.5673 999.739 L28.3562 999.739 L28.3562 993.882 L64.0042 993.882 L64.0042 999.739 L58.5296 999.739 Q61.7762 1001.87 63.3676 1004.7 Q64.9272 1007.51 64.9272 1011.23 Q64.9272 1017.37 61.1078 1020.55 Q57.2883 1023.74 49.9359 1023.74 M27.4968 1009 L27.4968 1009 Z\" fill=\"#000000\" fill-rule=\"nonzero\" fill-opacity=\"1\" /><path clip-path=\"url(#clip430)\" d=\"M35.1993 954.065 Q31.2526 951.869 29.3747 948.813 Q27.4968 945.758 27.4968 941.62 Q27.4968 936.05 31.4117 933.026 Q35.2948 930.003 42.4881 930.003 L64.0042 930.003 L64.0042 935.891 L42.679 935.891 Q37.5546 935.891 35.072 937.705 Q32.5894 939.519 32.5894 943.243 Q32.5894 947.795 35.6131 950.437 Q38.6368 953.078 43.8567 953.078 L64.0042 953.078 L64.0042 958.967 L42.679 958.967 Q37.5228 958.967 35.072 960.781 Q32.5894 962.595 32.5894 966.383 Q32.5894 970.87 35.6449 973.512 Q38.6686 976.154 43.8567 976.154 L64.0042 976.154 L64.0042 982.042 L28.3562 982.042 L28.3562 976.154 L33.8944 976.154 Q30.616 974.149 29.0564 971.348 Q27.4968 968.547 27.4968 964.696 Q27.4968 960.813 29.4702 958.107 Q31.4436 955.37 35.1993 954.065 Z\" fill=\"#000000\" fill-rule=\"nonzero\" fill-opacity=\"1\" /><path clip-path=\"url(#clip430)\" d=\"M46.212 892.731 Q39.7508 892.731 36.0905 895.405 Q32.3984 898.047 32.3984 902.694 Q32.3984 907.341 36.0905 910.014 Q39.7508 912.656 46.212 912.656 Q52.6732 912.656 56.3653 910.014 Q60.0256 907.341 60.0256 902.694 Q60.0256 898.047 56.3653 895.405 Q52.6732 892.731 46.212 892.731 M33.7671 912.656 Q30.5842 910.81 29.0564 908.009 Q27.4968 905.176 27.4968 901.261 Q27.4968 894.768 32.6531 890.726 Q37.8093 886.652 46.212 886.652 Q54.6147 886.652 59.771 890.726 Q64.9272 894.768 64.9272 901.261 Q64.9272 905.176 63.3994 908.009 Q61.8398 910.81 58.657 912.656 L64.0042 912.656 L64.0042 918.544 L14.479 918.544 L14.479 912.656 L33.7671 912.656 Z\" fill=\"#000000\" fill-rule=\"nonzero\" fill-opacity=\"1\" /><path clip-path=\"url(#clip430)\" d=\"M44.7161 846.453 L47.5806 846.453 L47.5806 873.38 Q53.6281 872.998 56.8109 869.751 Q59.9619 866.473 59.9619 860.648 Q59.9619 857.274 59.1344 854.123 Q58.3069 850.941 56.6518 847.821 L62.1899 847.821 Q63.5267 850.972 64.227 854.283 Q64.9272 857.593 64.9272 860.998 Q64.9272 869.528 59.9619 874.525 Q54.9967 879.491 46.5303 879.491 Q37.7774 879.491 32.6531 874.78 Q27.4968 870.038 27.4968 862.017 Q27.4968 854.824 32.1438 850.654 Q36.7589 846.453 44.7161 846.453 M42.9973 852.309 Q38.1912 852.373 35.3266 855.015 Q32.4621 857.625 32.4621 861.953 Q32.4621 866.855 35.2312 869.815 Q38.0002 872.743 43.0292 873.189 L42.9973 852.309 Z\" fill=\"#000000\" fill-rule=\"nonzero\" fill-opacity=\"1\" /><path clip-path=\"url(#clip430)\" d=\"M33.8307 816.184 Q33.2578 817.17 33.0032 818.348 Q32.7167 819.494 32.7167 820.894 Q32.7167 825.86 35.9632 828.533 Q39.1779 831.175 45.2253 831.175 L64.0042 831.175 L64.0042 837.063 L28.3562 837.063 L28.3562 831.175 L33.8944 831.175 Q30.6479 829.329 29.0883 826.369 Q27.4968 823.409 27.4968 819.176 Q27.4968 818.571 27.5923 817.839 Q27.656 817.107 27.8151 816.216 L33.8307 816.184 Z\" fill=\"#000000\" fill-rule=\"nonzero\" fill-opacity=\"1\" /><path clip-path=\"url(#clip430)\" d=\"M32.4621 775.507 Q32.4621 780.218 36.1542 782.955 Q39.8145 785.692 46.212 785.692 Q52.6095 785.692 56.3017 782.987 Q59.9619 780.249 59.9619 775.507 Q59.9619 770.828 56.2698 768.091 Q52.5777 765.354 46.212 765.354 Q39.8781 765.354 36.186 768.091 Q32.4621 770.828 32.4621 775.507 M27.4968 775.507 Q27.4968 767.868 32.4621 763.508 Q37.4273 759.147 46.212 759.147 Q54.9649 759.147 59.9619 763.508 Q64.9272 767.868 64.9272 775.507 Q64.9272 783.178 59.9619 787.538 Q54.9649 791.867 46.212 791.867 Q37.4273 791.867 32.4621 787.538 Q27.4968 783.178 27.4968 775.507 Z\" fill=\"#000000\" fill-rule=\"nonzero\" fill-opacity=\"1\" /><path clip-path=\"url(#clip430)\" d=\"M14.479 731.393 L19.3487 731.393 L19.3487 736.994 Q19.3487 740.145 20.6219 741.387 Q21.895 742.596 25.2052 742.596 L28.3562 742.596 L28.3562 732.952 L32.9077 732.952 L32.9077 742.596 L64.0042 742.596 L64.0042 748.484 L32.9077 748.484 L32.9077 754.086 L28.3562 754.086 L28.3562 748.484 L25.8736 748.484 Q19.9216 748.484 17.2162 745.715 Q14.479 742.946 14.479 736.931 L14.479 731.393 Z\" fill=\"#000000\" fill-rule=\"nonzero\" fill-opacity=\"1\" /><path clip-path=\"url(#clip430)\" d=\"M28.3562 705.771 L28.3562 699.914 L64.0042 699.914 L64.0042 705.771 L28.3562 705.771 M14.479 705.771 L14.479 699.914 L21.895 699.914 L21.895 705.771 L14.479 705.771 Z\" fill=\"#000000\" fill-rule=\"nonzero\" fill-opacity=\"1\" /><path clip-path=\"url(#clip430)\" d=\"M18.2347 681.867 L28.3562 681.867 L28.3562 669.804 L32.9077 669.804 L32.9077 681.867 L52.2594 681.867 Q56.6199 681.867 57.8613 680.69 Q59.1026 679.48 59.1026 675.82 L59.1026 669.804 L64.0042 669.804 L64.0042 675.82 Q64.0042 682.599 61.4897 685.178 Q58.9434 687.756 52.2594 687.756 L32.9077 687.756 L32.9077 692.052 L28.3562 692.052 L28.3562 687.756 L18.2347 687.756 L18.2347 681.867 Z\" fill=\"#000000\" fill-rule=\"nonzero\" fill-opacity=\"1\" /><path clip-path=\"url(#clip430)\" d=\"M44.7161 631.61 L47.5806 631.61 L47.5806 658.537 Q53.6281 658.155 56.8109 654.909 Q59.9619 651.63 59.9619 645.806 Q59.9619 642.432 59.1344 639.281 Q58.3069 636.098 56.6518 632.979 L62.1899 632.979 Q63.5267 636.13 64.227 639.44 Q64.9272 642.75 64.9272 646.156 Q64.9272 654.686 59.9619 659.683 Q54.9967 664.648 46.5303 664.648 Q37.7774 664.648 32.6531 659.937 Q27.4968 655.195 27.4968 647.174 Q27.4968 639.981 32.1438 635.811 Q36.7589 631.61 44.7161 631.61 M42.9973 637.467 Q38.1912 637.53 35.3266 640.172 Q32.4621 642.782 32.4621 647.111 Q32.4621 652.012 35.2312 654.972 Q38.0002 657.9 43.0292 658.346 L42.9973 637.467 Z\" fill=\"#000000\" fill-rule=\"nonzero\" fill-opacity=\"1\" /><path clip-path=\"url(#clip430)\" d=\"M33.8307 601.341 Q33.2578 602.328 33.0032 603.505 Q32.7167 604.651 32.7167 606.052 Q32.7167 611.017 35.9632 613.691 Q39.1779 616.332 45.2253 616.332 L64.0042 616.332 L64.0042 622.221 L28.3562 622.221 L28.3562 616.332 L33.8944 616.332 Q30.6479 614.486 29.0883 611.526 Q27.4968 608.566 27.4968 604.333 Q27.4968 603.728 27.5923 602.996 Q27.656 602.264 27.8151 601.373 L33.8307 601.341 Z\" fill=\"#000000\" fill-rule=\"nonzero\" fill-opacity=\"1\" /><path clip-path=\"url(#clip430)\" d=\"M46.0847 578.998 Q46.0847 586.095 47.7079 588.833 Q49.3312 591.57 53.2461 591.57 Q56.3653 591.57 58.2114 589.533 Q60.0256 587.464 60.0256 583.931 Q60.0256 579.061 56.5881 576.133 Q53.1188 573.173 47.3897 573.173 L46.0847 573.173 L46.0847 578.998 M43.6657 567.316 L64.0042 567.316 L64.0042 573.173 L58.5933 573.173 Q61.8398 575.178 63.3994 578.17 Q64.9272 581.162 64.9272 585.491 Q64.9272 590.965 61.8716 594.212 Q58.7843 597.426 53.6281 597.426 Q47.6125 597.426 44.5569 593.416 Q41.5014 589.374 41.5014 581.385 L41.5014 573.173 L40.9285 573.173 Q36.8862 573.173 34.6901 575.847 Q32.4621 578.488 32.4621 583.294 Q32.4621 586.35 33.1941 589.246 Q33.9262 592.143 35.3903 594.816 L29.9795 594.816 Q28.7381 591.602 28.1334 588.578 Q27.4968 585.554 27.4968 582.69 Q27.4968 574.955 31.5072 571.136 Q35.5176 567.316 43.6657 567.316 Z\" fill=\"#000000\" fill-rule=\"nonzero\" fill-opacity=\"1\" /><path clip-path=\"url(#clip430)\" d=\"M18.2347 549.461 L28.3562 549.461 L28.3562 537.398 L32.9077 537.398 L32.9077 549.461 L52.2594 549.461 Q56.6199 549.461 57.8613 548.283 Q59.1026 547.074 59.1026 543.413 L59.1026 537.398 L64.0042 537.398 L64.0042 543.413 Q64.0042 550.193 61.4897 552.771 Q58.9434 555.349 52.2594 555.349 L32.9077 555.349 L32.9077 559.646 L28.3562 559.646 L28.3562 555.349 L18.2347 555.349 L18.2347 549.461 Z\" fill=\"#000000\" fill-rule=\"nonzero\" fill-opacity=\"1\" /><path clip-path=\"url(#clip430)\" d=\"M28.3562 529.695 L28.3562 523.839 L64.0042 523.839 L64.0042 529.695 L28.3562 529.695 M14.479 529.695 L14.479 523.839 L21.895 523.839 L21.895 529.695 L14.479 529.695 Z\" fill=\"#000000\" fill-rule=\"nonzero\" fill-opacity=\"1\" /><path clip-path=\"url(#clip430)\" d=\"M32.4621 497.771 Q32.4621 502.482 36.1542 505.219 Q39.8145 507.956 46.212 507.956 Q52.6095 507.956 56.3017 505.251 Q59.9619 502.514 59.9619 497.771 Q59.9619 493.092 56.2698 490.355 Q52.5777 487.618 46.212 487.618 Q39.8781 487.618 36.186 490.355 Q32.4621 493.092 32.4621 497.771 M27.4968 497.771 Q27.4968 490.132 32.4621 485.772 Q37.4273 481.411 46.212 481.411 Q54.9649 481.411 59.9619 485.772 Q64.9272 490.132 64.9272 497.771 Q64.9272 505.442 59.9619 509.802 Q54.9649 514.131 46.212 514.131 Q37.4273 514.131 32.4621 509.802 Q27.4968 505.442 27.4968 497.771 Z\" fill=\"#000000\" fill-rule=\"nonzero\" fill-opacity=\"1\" /><path clip-path=\"url(#clip430)\" d=\"M42.4881 442.071 L64.0042 442.071 L64.0042 447.928 L42.679 447.928 Q37.6183 447.928 35.1038 449.901 Q32.5894 451.874 32.5894 455.821 Q32.5894 460.564 35.6131 463.301 Q38.6368 466.038 43.8567 466.038 L64.0042 466.038 L64.0042 471.926 L28.3562 471.926 L28.3562 466.038 L33.8944 466.038 Q30.6797 463.937 29.0883 461.105 Q27.4968 458.24 27.4968 454.516 Q27.4968 448.373 31.3163 445.222 Q35.1038 442.071 42.4881 442.071 Z\" fill=\"#000000\" fill-rule=\"nonzero\" fill-opacity=\"1\" /><path clip-path=\"url(#clip430)\" d=\"M29.4065 407.665 L34.9447 407.665 Q33.6716 410.147 33.035 412.821 Q32.3984 415.494 32.3984 418.359 Q32.3984 422.719 33.7352 424.916 Q35.072 427.08 37.7456 427.08 Q39.7826 427.08 40.9603 425.52 Q42.1061 423.961 43.1565 419.25 L43.6021 417.245 Q44.9389 411.007 47.3897 408.397 Q49.8086 405.755 54.1691 405.755 Q59.1344 405.755 62.0308 409.702 Q64.9272 413.616 64.9272 420.491 Q64.9272 423.356 64.3543 426.475 Q63.8132 429.563 62.6992 433 L56.6518 433 Q58.3387 429.754 59.198 426.603 Q60.0256 423.451 60.0256 420.364 Q60.0256 416.226 58.6251 413.998 Q57.1929 411.77 54.6147 411.77 Q52.2276 411.77 50.9545 413.394 Q49.6813 414.985 48.5037 420.428 L48.0262 422.465 Q46.8804 427.907 44.5251 430.326 Q42.138 432.745 38.0002 432.745 Q32.9713 432.745 30.2341 429.181 Q27.4968 425.616 27.4968 419.059 Q27.4968 415.813 27.9743 412.948 Q28.4517 410.084 29.4065 407.665 Z\" fill=\"#000000\" fill-rule=\"nonzero\" fill-opacity=\"1\" /><circle clip-path=\"url(#clip432)\" cx=\"265.65\" cy=\"1370.38\" r=\"14.4\" fill=\"#009af9\" fill-rule=\"evenodd\" fill-opacity=\"1\" stroke=\"#000000\" stroke-opacity=\"1\" stroke-width=\"3.2\"/>\n",
       "<circle clip-path=\"url(#clip432)\" cx=\"941.089\" cy=\"1245.69\" r=\"14.4\" fill=\"#009af9\" fill-rule=\"evenodd\" fill-opacity=\"1\" stroke=\"#000000\" stroke-opacity=\"1\" stroke-width=\"3.2\"/>\n",
       "<circle clip-path=\"url(#clip432)\" cx=\"1616.53\" cy=\"1173.76\" r=\"14.4\" fill=\"#009af9\" fill-rule=\"evenodd\" fill-opacity=\"1\" stroke=\"#000000\" stroke-opacity=\"1\" stroke-width=\"3.2\"/>\n",
       "<circle clip-path=\"url(#clip432)\" cx=\"2291.97\" cy=\"1034.68\" r=\"14.4\" fill=\"#009af9\" fill-rule=\"evenodd\" fill-opacity=\"1\" stroke=\"#000000\" stroke-opacity=\"1\" stroke-width=\"3.2\"/>\n",
       "<polyline clip-path=\"url(#clip432)\" style=\"stroke:#e26f46; stroke-linecap:round; stroke-linejoin:round; stroke-width:4; stroke-opacity:1; fill:none\" points=\"265.65,1384.24 941.089,1245.69 1616.53,872.69 2291.97,86.1857 \"/>\n",
       "<path clip-path=\"url(#clip430)\" d=\"M276.457 248.629 L976.336 248.629 L976.336 93.1086 L276.457 93.1086  Z\" fill=\"#ffffff\" fill-rule=\"evenodd\" fill-opacity=\"1\"/>\n",
       "<polyline clip-path=\"url(#clip430)\" style=\"stroke:#000000; stroke-linecap:round; stroke-linejoin:round; stroke-width:4; stroke-opacity:1; fill:none\" points=\"276.457,248.629 976.336,248.629 976.336,93.1086 276.457,93.1086 276.457,248.629 \"/>\n",
       "<circle clip-path=\"url(#clip430)\" cx=\"371.919\" cy=\"144.949\" r=\"20.48\" fill=\"#009af9\" fill-rule=\"evenodd\" fill-opacity=\"1\" stroke=\"#000000\" stroke-opacity=\"1\" stroke-width=\"4.55111\"/>\n",
       "<path clip-path=\"url(#clip430)\" d=\"M467.381 127.669 L473.677 127.669 L489.001 156.581 L489.001 127.669 L493.538 127.669 L493.538 162.229 L487.242 162.229 L471.918 133.317 L471.918 162.229 L467.381 162.229 L467.381 127.669 Z\" fill=\"#000000\" fill-rule=\"nonzero\" fill-opacity=\"1\" /><path clip-path=\"url(#clip430)\" d=\"M502.218 151.997 L502.218 136.303 L506.478 136.303 L506.478 151.835 Q506.478 155.516 507.913 157.368 Q509.348 159.196 512.218 159.196 Q515.668 159.196 517.658 156.997 Q519.672 154.798 519.672 151.002 L519.672 136.303 L523.931 136.303 L523.931 162.229 L519.672 162.229 L519.672 158.247 Q518.121 160.608 516.061 161.766 Q514.024 162.9 511.316 162.9 Q506.848 162.9 504.533 160.122 Q502.218 157.344 502.218 151.997 M512.936 135.678 L512.936 135.678 Z\" fill=\"#000000\" fill-rule=\"nonzero\" fill-opacity=\"1\" /><path clip-path=\"url(#clip430)\" d=\"M552.89 141.28 Q554.487 138.409 556.709 137.044 Q558.931 135.678 561.94 135.678 Q565.991 135.678 568.19 138.525 Q570.389 141.349 570.389 146.581 L570.389 162.229 L566.107 162.229 L566.107 146.719 Q566.107 142.993 564.788 141.187 Q563.468 139.382 560.76 139.382 Q557.45 139.382 555.528 141.581 Q553.607 143.78 553.607 147.576 L553.607 162.229 L549.325 162.229 L549.325 146.719 Q549.325 142.969 548.005 141.187 Q546.686 139.382 543.931 139.382 Q540.667 139.382 538.746 141.604 Q536.825 143.803 536.825 147.576 L536.825 162.229 L532.542 162.229 L532.542 136.303 L536.825 136.303 L536.825 140.331 Q538.283 137.946 540.32 136.812 Q542.357 135.678 545.158 135.678 Q547.982 135.678 549.95 137.113 Q551.94 138.548 552.89 141.28 Z\" fill=\"#000000\" fill-rule=\"nonzero\" fill-opacity=\"1\" /><path clip-path=\"url(#clip430)\" d=\"M597.496 149.289 Q597.496 144.59 595.551 141.928 Q593.63 139.243 590.25 139.243 Q586.871 139.243 584.926 141.928 Q583.005 144.59 583.005 149.289 Q583.005 153.988 584.926 156.673 Q586.871 159.335 590.25 159.335 Q593.63 159.335 595.551 156.673 Q597.496 153.988 597.496 149.289 M583.005 140.238 Q584.348 137.923 586.385 136.812 Q588.445 135.678 591.292 135.678 Q596.014 135.678 598.954 139.428 Q601.917 143.178 601.917 149.289 Q601.917 155.4 598.954 159.15 Q596.014 162.9 591.292 162.9 Q588.445 162.9 586.385 161.789 Q584.348 160.655 583.005 158.34 L583.005 162.229 L578.723 162.229 L578.723 126.21 L583.005 126.21 L583.005 140.238 Z\" fill=\"#000000\" fill-rule=\"nonzero\" fill-opacity=\"1\" /><path clip-path=\"url(#clip430)\" d=\"M631.153 148.201 L631.153 150.284 L611.57 150.284 Q611.848 154.682 614.209 156.997 Q616.593 159.289 620.829 159.289 Q623.283 159.289 625.574 158.687 Q627.889 158.085 630.158 156.881 L630.158 160.909 Q627.866 161.881 625.459 162.391 Q623.051 162.9 620.574 162.9 Q614.371 162.9 610.736 159.289 Q607.125 155.678 607.125 149.52 Q607.125 143.155 610.551 139.428 Q614 135.678 619.834 135.678 Q625.065 135.678 628.097 139.057 Q631.153 142.414 631.153 148.201 M626.894 146.951 Q626.847 143.456 624.926 141.372 Q623.028 139.289 619.88 139.289 Q616.315 139.289 614.162 141.303 Q612.033 143.317 611.709 146.974 L626.894 146.951 Z\" fill=\"#000000\" fill-rule=\"nonzero\" fill-opacity=\"1\" /><path clip-path=\"url(#clip430)\" d=\"M653.167 140.284 Q652.449 139.868 651.593 139.682 Q650.759 139.474 649.741 139.474 Q646.13 139.474 644.185 141.835 Q642.264 144.173 642.264 148.571 L642.264 162.229 L637.982 162.229 L637.982 136.303 L642.264 136.303 L642.264 140.331 Q643.607 137.969 645.759 136.835 Q647.912 135.678 650.991 135.678 Q651.431 135.678 651.963 135.747 Q652.495 135.794 653.144 135.909 L653.167 140.284 Z\" fill=\"#000000\" fill-rule=\"nonzero\" fill-opacity=\"1\" /><path clip-path=\"url(#clip430)\" d=\"M682.75 139.289 Q679.324 139.289 677.333 141.974 Q675.343 144.636 675.343 149.289 Q675.343 153.942 677.31 156.627 Q679.301 159.289 682.75 159.289 Q686.153 159.289 688.143 156.604 Q690.134 153.918 690.134 149.289 Q690.134 144.682 688.143 141.997 Q686.153 139.289 682.75 139.289 M682.75 135.678 Q688.305 135.678 691.477 139.289 Q694.648 142.9 694.648 149.289 Q694.648 155.655 691.477 159.289 Q688.305 162.9 682.75 162.9 Q677.171 162.9 674 159.289 Q670.852 155.655 670.852 149.289 Q670.852 142.9 674 139.289 Q677.171 135.678 682.75 135.678 Z\" fill=\"#000000\" fill-rule=\"nonzero\" fill-opacity=\"1\" /><path clip-path=\"url(#clip430)\" d=\"M714.833 126.21 L714.833 129.752 L710.759 129.752 Q708.467 129.752 707.565 130.678 Q706.685 131.604 706.685 134.011 L706.685 136.303 L713.699 136.303 L713.699 139.613 L706.685 139.613 L706.685 162.229 L702.403 162.229 L702.403 139.613 L698.329 139.613 L698.329 136.303 L702.403 136.303 L702.403 134.497 Q702.403 130.169 704.416 128.201 Q706.43 126.21 710.805 126.21 L714.833 126.21 Z\" fill=\"#000000\" fill-rule=\"nonzero\" fill-opacity=\"1\" /><path clip-path=\"url(#clip430)\" d=\"M733.652 127.669 L738.328 127.669 L738.328 162.229 L733.652 162.229 L733.652 127.669 Z\" fill=\"#000000\" fill-rule=\"nonzero\" fill-opacity=\"1\" /><path clip-path=\"url(#clip430)\" d=\"M751.662 128.942 L751.662 136.303 L760.435 136.303 L760.435 139.613 L751.662 139.613 L751.662 153.687 Q751.662 156.858 752.518 157.761 Q753.398 158.664 756.06 158.664 L760.435 158.664 L760.435 162.229 L756.06 162.229 Q751.129 162.229 749.254 160.4 Q747.379 158.548 747.379 153.687 L747.379 139.613 L744.254 139.613 L744.254 136.303 L747.379 136.303 L747.379 128.942 L751.662 128.942 Z\" fill=\"#000000\" fill-rule=\"nonzero\" fill-opacity=\"1\" /><path clip-path=\"url(#clip430)\" d=\"M788.212 148.201 L788.212 150.284 L768.629 150.284 Q768.907 154.682 771.268 156.997 Q773.652 159.289 777.888 159.289 Q780.342 159.289 782.634 158.687 Q784.948 158.085 787.217 156.881 L787.217 160.909 Q784.925 161.881 782.518 162.391 Q780.111 162.9 777.634 162.9 Q771.43 162.9 767.796 159.289 Q764.185 155.678 764.185 149.52 Q764.185 143.155 767.611 139.428 Q771.06 135.678 776.893 135.678 Q782.124 135.678 785.157 139.057 Q788.212 142.414 788.212 148.201 M783.953 146.951 Q783.907 143.456 781.986 141.372 Q780.087 139.289 776.939 139.289 Q773.374 139.289 771.222 141.303 Q769.092 143.317 768.768 146.974 L783.953 146.951 Z\" fill=\"#000000\" fill-rule=\"nonzero\" fill-opacity=\"1\" /><path clip-path=\"url(#clip430)\" d=\"M810.226 140.284 Q809.509 139.868 808.652 139.682 Q807.819 139.474 806.8 139.474 Q803.189 139.474 801.245 141.835 Q799.323 144.173 799.323 148.571 L799.323 162.229 L795.041 162.229 L795.041 136.303 L799.323 136.303 L799.323 140.331 Q800.666 137.969 802.819 136.835 Q804.972 135.678 808.05 135.678 Q808.49 135.678 809.022 135.747 Q809.555 135.794 810.203 135.909 L810.226 140.284 Z\" fill=\"#000000\" fill-rule=\"nonzero\" fill-opacity=\"1\" /><path clip-path=\"url(#clip430)\" d=\"M826.476 149.196 Q821.314 149.196 819.323 150.377 Q817.333 151.557 817.333 154.405 Q817.333 156.673 818.814 158.016 Q820.319 159.335 822.888 159.335 Q826.43 159.335 828.559 156.835 Q830.712 154.312 830.712 150.145 L830.712 149.196 L826.476 149.196 M834.971 147.437 L834.971 162.229 L830.712 162.229 L830.712 158.293 Q829.254 160.655 827.078 161.789 Q824.902 162.9 821.754 162.9 Q817.772 162.9 815.411 160.678 Q813.073 158.432 813.073 154.682 Q813.073 150.307 815.99 148.085 Q818.93 145.863 824.74 145.863 L830.712 145.863 L830.712 145.446 Q830.712 142.507 828.768 140.909 Q826.846 139.289 823.351 139.289 Q821.129 139.289 819.022 139.821 Q816.916 140.354 814.971 141.419 L814.971 137.483 Q817.309 136.581 819.508 136.141 Q821.708 135.678 823.791 135.678 Q829.416 135.678 832.194 138.594 Q834.971 141.511 834.971 147.437 Z\" fill=\"#000000\" fill-rule=\"nonzero\" fill-opacity=\"1\" /><path clip-path=\"url(#clip430)\" d=\"M847.957 128.942 L847.957 136.303 L856.73 136.303 L856.73 139.613 L847.957 139.613 L847.957 153.687 Q847.957 156.858 848.814 157.761 Q849.693 158.664 852.356 158.664 L856.73 158.664 L856.73 162.229 L852.356 162.229 Q847.425 162.229 845.55 160.4 Q843.675 158.548 843.675 153.687 L843.675 139.613 L840.55 139.613 L840.55 136.303 L843.675 136.303 L843.675 128.942 L847.957 128.942 Z\" fill=\"#000000\" fill-rule=\"nonzero\" fill-opacity=\"1\" /><path clip-path=\"url(#clip430)\" d=\"M862.332 136.303 L866.592 136.303 L866.592 162.229 L862.332 162.229 L862.332 136.303 M862.332 126.21 L866.592 126.21 L866.592 131.604 L862.332 131.604 L862.332 126.21 Z\" fill=\"#000000\" fill-rule=\"nonzero\" fill-opacity=\"1\" /><path clip-path=\"url(#clip430)\" d=\"M885.55 139.289 Q882.124 139.289 880.133 141.974 Q878.142 144.636 878.142 149.289 Q878.142 153.942 880.11 156.627 Q882.101 159.289 885.55 159.289 Q888.953 159.289 890.943 156.604 Q892.934 153.918 892.934 149.289 Q892.934 144.682 890.943 141.997 Q888.953 139.289 885.55 139.289 M885.55 135.678 Q891.105 135.678 894.277 139.289 Q897.448 142.9 897.448 149.289 Q897.448 155.655 894.277 159.289 Q891.105 162.9 885.55 162.9 Q879.971 162.9 876.8 159.289 Q873.652 155.655 873.652 149.289 Q873.652 142.9 876.8 139.289 Q879.971 135.678 885.55 135.678 Z\" fill=\"#000000\" fill-rule=\"nonzero\" fill-opacity=\"1\" /><path clip-path=\"url(#clip430)\" d=\"M926.059 146.581 L926.059 162.229 L921.8 162.229 L921.8 146.719 Q921.8 143.039 920.364 141.21 Q918.929 139.382 916.059 139.382 Q912.61 139.382 910.619 141.581 Q908.628 143.78 908.628 147.576 L908.628 162.229 L904.346 162.229 L904.346 136.303 L908.628 136.303 L908.628 140.331 Q910.156 137.993 912.216 136.835 Q914.3 135.678 917.008 135.678 Q921.476 135.678 923.767 138.456 Q926.059 141.21 926.059 146.581 Z\" fill=\"#000000\" fill-rule=\"nonzero\" fill-opacity=\"1\" /><path clip-path=\"url(#clip430)\" d=\"M951.082 137.067 L951.082 141.094 Q949.276 140.169 947.332 139.706 Q945.387 139.243 943.304 139.243 Q940.133 139.243 938.536 140.215 Q936.962 141.187 936.962 143.131 Q936.962 144.613 938.096 145.469 Q939.23 146.303 942.656 147.067 L944.114 147.391 Q948.651 148.363 950.549 150.145 Q952.471 151.905 952.471 155.076 Q952.471 158.687 949.6 160.793 Q946.753 162.9 941.753 162.9 Q939.67 162.9 937.401 162.483 Q935.156 162.09 932.656 161.28 L932.656 156.881 Q935.017 158.108 937.309 158.733 Q939.6 159.335 941.846 159.335 Q944.855 159.335 946.475 158.317 Q948.096 157.275 948.096 155.4 Q948.096 153.664 946.915 152.738 Q945.758 151.812 941.799 150.956 L940.318 150.608 Q936.36 149.775 934.6 148.062 Q932.841 146.326 932.841 143.317 Q932.841 139.659 935.434 137.669 Q938.026 135.678 942.795 135.678 Q945.156 135.678 947.239 136.025 Q949.323 136.372 951.082 137.067 Z\" fill=\"#000000\" fill-rule=\"nonzero\" fill-opacity=\"1\" /><polyline clip-path=\"url(#clip430)\" style=\"stroke:#e26f46; stroke-linecap:round; stroke-linejoin:round; stroke-width:4; stroke-opacity:1; fill:none\" points=\"300.322,196.789 443.515,196.789 \"/>\n",
       "<path clip-path=\"url(#clip430)\" d=\"M492.033 188.143 L482.658 200.759 L492.519 214.069 L487.496 214.069 L479.95 203.883 L472.404 214.069 L467.381 214.069 L477.45 200.504 L468.237 188.143 L473.26 188.143 L480.135 197.379 L487.01 188.143 L492.033 188.143 Z\" fill=\"#000000\" fill-rule=\"nonzero\" fill-opacity=\"1\" /><path clip-path=\"url(#clip430)\" d=\"M516.2 179.509 L528.769 192.402 L524.117 192.402 L513.931 183.259 L503.746 192.402 L499.094 192.402 L511.663 179.509 L516.2 179.509 Z\" fill=\"#000000\" fill-rule=\"nonzero\" fill-opacity=\"1\" /><path clip-path=\"url(#clip430)\" d=\"M551.709 183.583 L539.903 202.032 L551.709 202.032 L551.709 183.583 M550.482 179.509 L556.362 179.509 L556.362 202.032 L561.292 202.032 L561.292 205.921 L556.362 205.921 L556.362 214.069 L551.709 214.069 L551.709 205.921 L536.107 205.921 L536.107 201.407 L550.482 179.509 Z\" fill=\"#000000\" fill-rule=\"nonzero\" fill-opacity=\"1\" /></svg>\n"
      ],
      "text/html": [
       "<?xml version=\"1.0\" encoding=\"utf-8\"?>\n",
       "<svg xmlns=\"http://www.w3.org/2000/svg\" xmlns:xlink=\"http://www.w3.org/1999/xlink\" width=\"600\" height=\"400\" viewBox=\"0 0 2400 1600\">\n",
       "<defs>\n",
       "  <clipPath id=\"clip480\">\n",
       "    <rect x=\"0\" y=\"0\" width=\"2400\" height=\"1600\"/>\n",
       "  </clipPath>\n",
       "</defs>\n",
       "<path clip-path=\"url(#clip480)\" d=\"M0 1600 L2400 1600 L2400 0 L0 0  Z\" fill=\"#ffffff\" fill-rule=\"evenodd\" fill-opacity=\"1\"/>\n",
       "<defs>\n",
       "  <clipPath id=\"clip481\">\n",
       "    <rect x=\"480\" y=\"0\" width=\"1681\" height=\"1600\"/>\n",
       "  </clipPath>\n",
       "</defs>\n",
       "<path clip-path=\"url(#clip480)\" d=\"M204.86 1423.18 L2352.76 1423.18 L2352.76 47.2441 L204.86 47.2441  Z\" fill=\"#ffffff\" fill-rule=\"evenodd\" fill-opacity=\"1\"/>\n",
       "<defs>\n",
       "  <clipPath id=\"clip482\">\n",
       "    <rect x=\"204\" y=\"47\" width=\"2149\" height=\"1377\"/>\n",
       "  </clipPath>\n",
       "</defs>\n",
       "<polyline clip-path=\"url(#clip482)\" style=\"stroke:#000000; stroke-linecap:round; stroke-linejoin:round; stroke-width:2; stroke-opacity:0.1; fill:none\" points=\"265.65,1423.18 265.65,47.2441 \"/>\n",
       "<polyline clip-path=\"url(#clip482)\" style=\"stroke:#000000; stroke-linecap:round; stroke-linejoin:round; stroke-width:2; stroke-opacity:0.1; fill:none\" points=\"941.089,1423.18 941.089,47.2441 \"/>\n",
       "<polyline clip-path=\"url(#clip482)\" style=\"stroke:#000000; stroke-linecap:round; stroke-linejoin:round; stroke-width:2; stroke-opacity:0.1; fill:none\" points=\"1616.53,1423.18 1616.53,47.2441 \"/>\n",
       "<polyline clip-path=\"url(#clip482)\" style=\"stroke:#000000; stroke-linecap:round; stroke-linejoin:round; stroke-width:2; stroke-opacity:0.1; fill:none\" points=\"2291.97,1423.18 2291.97,47.2441 \"/>\n",
       "<polyline clip-path=\"url(#clip482)\" style=\"stroke:#000000; stroke-linecap:round; stroke-linejoin:round; stroke-width:2; stroke-opacity:0.1; fill:none\" points=\"204.86,1418.34 2352.76,1418.34 \"/>\n",
       "<polyline clip-path=\"url(#clip482)\" style=\"stroke:#000000; stroke-linecap:round; stroke-linejoin:round; stroke-width:2; stroke-opacity:0.1; fill:none\" points=\"204.86,1178.55 2352.76,1178.55 \"/>\n",
       "<polyline clip-path=\"url(#clip482)\" style=\"stroke:#000000; stroke-linecap:round; stroke-linejoin:round; stroke-width:2; stroke-opacity:0.1; fill:none\" points=\"204.86,938.765 2352.76,938.765 \"/>\n",
       "<polyline clip-path=\"url(#clip482)\" style=\"stroke:#000000; stroke-linecap:round; stroke-linejoin:round; stroke-width:2; stroke-opacity:0.1; fill:none\" points=\"204.86,698.977 2352.76,698.977 \"/>\n",
       "<polyline clip-path=\"url(#clip482)\" style=\"stroke:#000000; stroke-linecap:round; stroke-linejoin:round; stroke-width:2; stroke-opacity:0.1; fill:none\" points=\"204.86,459.189 2352.76,459.189 \"/>\n",
       "<polyline clip-path=\"url(#clip482)\" style=\"stroke:#000000; stroke-linecap:round; stroke-linejoin:round; stroke-width:2; stroke-opacity:0.1; fill:none\" points=\"204.86,219.401 2352.76,219.401 \"/>\n",
       "<polyline clip-path=\"url(#clip480)\" style=\"stroke:#000000; stroke-linecap:round; stroke-linejoin:round; stroke-width:4; stroke-opacity:1; fill:none\" points=\"204.86,1423.18 2352.76,1423.18 \"/>\n",
       "<polyline clip-path=\"url(#clip480)\" style=\"stroke:#000000; stroke-linecap:round; stroke-linejoin:round; stroke-width:4; stroke-opacity:1; fill:none\" points=\"265.65,1423.18 265.65,1404.28 \"/>\n",
       "<polyline clip-path=\"url(#clip480)\" style=\"stroke:#000000; stroke-linecap:round; stroke-linejoin:round; stroke-width:4; stroke-opacity:1; fill:none\" points=\"941.089,1423.18 941.089,1404.28 \"/>\n",
       "<polyline clip-path=\"url(#clip480)\" style=\"stroke:#000000; stroke-linecap:round; stroke-linejoin:round; stroke-width:4; stroke-opacity:1; fill:none\" points=\"1616.53,1423.18 1616.53,1404.28 \"/>\n",
       "<polyline clip-path=\"url(#clip480)\" style=\"stroke:#000000; stroke-linecap:round; stroke-linejoin:round; stroke-width:4; stroke-opacity:1; fill:none\" points=\"2291.97,1423.18 2291.97,1404.28 \"/>\n",
       "<path clip-path=\"url(#clip480)\" d=\"M260.302 1481.64 L276.622 1481.64 L276.622 1485.58 L254.677 1485.58 L254.677 1481.64 Q257.339 1478.89 261.923 1474.26 Q266.529 1469.61 267.71 1468.27 Q269.955 1465.74 270.835 1464.01 Q271.738 1462.25 271.738 1460.56 Q271.738 1457.8 269.793 1456.07 Q267.872 1454.33 264.77 1454.33 Q262.571 1454.33 260.117 1455.09 Q257.687 1455.86 254.909 1457.41 L254.909 1452.69 Q257.733 1451.55 260.187 1450.97 Q262.64 1450.39 264.677 1450.39 Q270.048 1450.39 273.242 1453.08 Q276.437 1455.77 276.437 1460.26 Q276.437 1462.39 275.626 1464.31 Q274.839 1466.2 272.733 1468.8 Q272.154 1469.47 269.052 1472.69 Q265.951 1475.88 260.302 1481.64 Z\" fill=\"#000000\" fill-rule=\"nonzero\" fill-opacity=\"1\" /><path clip-path=\"url(#clip480)\" d=\"M945.336 1466.95 Q948.693 1467.66 950.568 1469.93 Q952.466 1472.2 952.466 1475.53 Q952.466 1480.65 948.947 1483.45 Q945.429 1486.25 938.947 1486.25 Q936.771 1486.25 934.457 1485.81 Q932.165 1485.39 929.711 1484.54 L929.711 1480.02 Q931.656 1481.16 933.971 1481.74 Q936.285 1482.32 938.808 1482.32 Q943.207 1482.32 945.498 1480.58 Q947.813 1478.84 947.813 1475.53 Q947.813 1472.48 945.66 1470.77 Q943.531 1469.03 939.711 1469.03 L935.683 1469.03 L935.683 1465.19 L939.896 1465.19 Q943.345 1465.19 945.174 1463.82 Q947.003 1462.43 947.003 1459.84 Q947.003 1457.18 945.105 1455.77 Q943.23 1454.33 939.711 1454.33 Q937.79 1454.33 935.591 1454.75 Q933.392 1455.16 930.753 1456.04 L930.753 1451.88 Q933.415 1451.14 935.73 1450.77 Q938.068 1450.39 940.128 1450.39 Q945.452 1450.39 948.554 1452.83 Q951.656 1455.23 951.656 1459.35 Q951.656 1462.22 950.012 1464.21 Q948.369 1466.18 945.336 1466.95 Z\" fill=\"#000000\" fill-rule=\"nonzero\" fill-opacity=\"1\" /><path clip-path=\"url(#clip480)\" d=\"M1619.54 1455.09 L1607.73 1473.54 L1619.54 1473.54 L1619.54 1455.09 M1618.31 1451.02 L1624.19 1451.02 L1624.19 1473.54 L1629.12 1473.54 L1629.12 1477.43 L1624.19 1477.43 L1624.19 1485.58 L1619.54 1485.58 L1619.54 1477.43 L1603.93 1477.43 L1603.93 1472.92 L1618.31 1451.02 Z\" fill=\"#000000\" fill-rule=\"nonzero\" fill-opacity=\"1\" /><path clip-path=\"url(#clip480)\" d=\"M2282.24 1451.02 L2300.6 1451.02 L2300.6 1454.96 L2286.53 1454.96 L2286.53 1463.43 Q2287.55 1463.08 2288.56 1462.92 Q2289.58 1462.73 2290.6 1462.73 Q2296.39 1462.73 2299.77 1465.9 Q2303.15 1469.08 2303.15 1474.49 Q2303.15 1480.07 2299.67 1483.17 Q2296.2 1486.25 2289.88 1486.25 Q2287.71 1486.25 2285.44 1485.88 Q2283.19 1485.51 2280.79 1484.77 L2280.79 1480.07 Q2282.87 1481.2 2285.09 1481.76 Q2287.31 1482.32 2289.79 1482.32 Q2293.8 1482.32 2296.13 1480.21 Q2298.47 1478.1 2298.47 1474.49 Q2298.47 1470.88 2296.13 1468.77 Q2293.8 1466.67 2289.79 1466.67 Q2287.92 1466.67 2286.04 1467.08 Q2284.19 1467.5 2282.24 1468.38 L2282.24 1451.02 Z\" fill=\"#000000\" fill-rule=\"nonzero\" fill-opacity=\"1\" /><path clip-path=\"url(#clip480)\" d=\"M1135.48 1546.53 L1135.48 1568.04 L1129.63 1568.04 L1129.63 1546.72 Q1129.63 1541.66 1127.65 1539.14 Q1125.68 1536.63 1121.73 1536.63 Q1116.99 1536.63 1114.25 1539.65 Q1111.52 1542.68 1111.52 1547.9 L1111.52 1568.04 L1105.63 1568.04 L1105.63 1532.4 L1111.52 1532.4 L1111.52 1537.93 Q1113.62 1534.72 1116.45 1533.13 Q1119.32 1531.54 1123.04 1531.54 Q1129.18 1531.54 1132.33 1535.36 Q1135.48 1539.14 1135.48 1546.53 Z\" fill=\"#000000\" fill-rule=\"nonzero\" fill-opacity=\"1\" /><path clip-path=\"url(#clip480)\" d=\"M1176.8 1532.4 L1163.91 1549.74 L1177.47 1568.04 L1170.56 1568.04 L1160.18 1554.04 L1149.81 1568.04 L1142.9 1568.04 L1156.75 1549.39 L1144.08 1532.4 L1150.98 1532.4 L1160.44 1545.1 L1169.89 1532.4 L1176.8 1532.4 Z\" fill=\"#000000\" fill-rule=\"nonzero\" fill-opacity=\"1\" /><path clip-path=\"url(#clip480)\" d=\"M1215.37 1546.53 L1215.37 1568.04 L1209.52 1568.04 L1209.52 1546.72 Q1209.52 1541.66 1207.54 1539.14 Q1205.57 1536.63 1201.62 1536.63 Q1196.88 1536.63 1194.14 1539.65 Q1191.41 1542.68 1191.41 1547.9 L1191.41 1568.04 L1185.52 1568.04 L1185.52 1532.4 L1191.41 1532.4 L1191.41 1537.93 Q1193.51 1534.72 1196.34 1533.13 Q1199.2 1531.54 1202.93 1531.54 Q1209.07 1531.54 1212.22 1535.36 Q1215.37 1539.14 1215.37 1546.53 Z\" fill=\"#000000\" fill-rule=\"nonzero\" fill-opacity=\"1\" /><path clip-path=\"url(#clip480)\" d=\"M1275.53 1539.24 Q1277.73 1535.29 1280.78 1533.41 Q1283.84 1531.54 1287.97 1531.54 Q1293.54 1531.54 1296.57 1535.45 Q1299.59 1539.33 1299.59 1546.53 L1299.59 1568.04 L1293.7 1568.04 L1293.7 1546.72 Q1293.7 1541.59 1291.89 1539.11 Q1290.08 1536.63 1286.35 1536.63 Q1281.8 1536.63 1279.16 1539.65 Q1276.52 1542.68 1276.52 1547.9 L1276.52 1568.04 L1270.63 1568.04 L1270.63 1546.72 Q1270.63 1541.56 1268.81 1539.11 Q1267 1536.63 1263.21 1536.63 Q1258.72 1536.63 1256.08 1539.68 Q1253.44 1542.71 1253.44 1547.9 L1253.44 1568.04 L1247.55 1568.04 L1247.55 1532.4 L1253.44 1532.4 L1253.44 1537.93 Q1255.45 1534.66 1258.25 1533.1 Q1261.05 1531.54 1264.9 1531.54 Q1268.78 1531.54 1271.49 1533.51 Q1274.22 1535.48 1275.53 1539.24 Z\" fill=\"#000000\" fill-rule=\"nonzero\" fill-opacity=\"1\" /><path clip-path=\"url(#clip480)\" d=\"M1327.47 1550.12 Q1320.38 1550.12 1317.64 1551.75 Q1314.9 1553.37 1314.9 1557.29 Q1314.9 1560.4 1316.94 1562.25 Q1319.01 1564.07 1322.54 1564.07 Q1327.41 1564.07 1330.34 1560.63 Q1333.3 1557.16 1333.3 1551.43 L1333.3 1550.12 L1327.47 1550.12 M1339.15 1547.71 L1339.15 1568.04 L1333.3 1568.04 L1333.3 1562.63 Q1331.29 1565.88 1328.3 1567.44 Q1325.31 1568.97 1320.98 1568.97 Q1315.51 1568.97 1312.26 1565.91 Q1309.05 1562.82 1309.05 1557.67 Q1309.05 1551.65 1313.06 1548.6 Q1317.1 1545.54 1325.09 1545.54 L1333.3 1545.54 L1333.3 1544.97 Q1333.3 1540.93 1330.62 1538.73 Q1327.98 1536.5 1323.18 1536.5 Q1320.12 1536.5 1317.23 1537.23 Q1314.33 1537.97 1311.66 1539.43 L1311.66 1534.02 Q1314.87 1532.78 1317.89 1532.17 Q1320.92 1531.54 1323.78 1531.54 Q1331.52 1531.54 1335.34 1535.55 Q1339.15 1539.56 1339.15 1547.71 Z\" fill=\"#000000\" fill-rule=\"nonzero\" fill-opacity=\"1\" /><path clip-path=\"url(#clip480)\" d=\"M1357.01 1522.27 L1357.01 1532.4 L1369.07 1532.4 L1369.07 1536.95 L1357.01 1536.95 L1357.01 1556.3 Q1357.01 1560.66 1358.19 1561.9 Q1359.4 1563.14 1363.06 1563.14 L1369.07 1563.14 L1369.07 1568.04 L1363.06 1568.04 Q1356.28 1568.04 1353.7 1565.53 Q1351.12 1562.98 1351.12 1556.3 L1351.12 1536.95 L1346.83 1536.95 L1346.83 1532.4 L1351.12 1532.4 L1351.12 1522.27 L1357.01 1522.27 Z\" fill=\"#000000\" fill-rule=\"nonzero\" fill-opacity=\"1\" /><path clip-path=\"url(#clip480)\" d=\"M1397.43 1537.87 Q1396.45 1537.3 1395.27 1537.04 Q1394.12 1536.76 1392.72 1536.76 Q1387.76 1536.76 1385.08 1540 Q1382.44 1543.22 1382.44 1549.27 L1382.44 1568.04 L1376.55 1568.04 L1376.55 1532.4 L1382.44 1532.4 L1382.44 1537.93 Q1384.29 1534.69 1387.25 1533.13 Q1390.21 1531.54 1394.44 1531.54 Q1395.05 1531.54 1395.78 1531.63 Q1396.51 1531.7 1397.4 1531.85 L1397.43 1537.87 Z\" fill=\"#000000\" fill-rule=\"nonzero\" fill-opacity=\"1\" /><path clip-path=\"url(#clip480)\" d=\"M1403.58 1532.4 L1409.43 1532.4 L1409.43 1568.04 L1403.58 1568.04 L1403.58 1532.4 M1403.58 1518.52 L1409.43 1518.52 L1409.43 1525.93 L1403.58 1525.93 L1403.58 1518.52 Z\" fill=\"#000000\" fill-rule=\"nonzero\" fill-opacity=\"1\" /><path clip-path=\"url(#clip480)\" d=\"M1451.32 1532.4 L1438.43 1549.74 L1451.99 1568.04 L1445.08 1568.04 L1434.7 1554.04 L1424.33 1568.04 L1417.42 1568.04 L1431.27 1549.39 L1418.6 1532.4 L1425.51 1532.4 L1434.96 1545.1 L1444.41 1532.4 L1451.32 1532.4 Z\" fill=\"#000000\" fill-rule=\"nonzero\" fill-opacity=\"1\" /><polyline clip-path=\"url(#clip480)\" style=\"stroke:#000000; stroke-linecap:round; stroke-linejoin:round; stroke-width:4; stroke-opacity:1; fill:none\" points=\"204.86,1423.18 204.86,47.2441 \"/>\n",
       "<polyline clip-path=\"url(#clip480)\" style=\"stroke:#000000; stroke-linecap:round; stroke-linejoin:round; stroke-width:4; stroke-opacity:1; fill:none\" points=\"204.86,1418.34 223.758,1418.34 \"/>\n",
       "<polyline clip-path=\"url(#clip480)\" style=\"stroke:#000000; stroke-linecap:round; stroke-linejoin:round; stroke-width:4; stroke-opacity:1; fill:none\" points=\"204.86,1178.55 223.758,1178.55 \"/>\n",
       "<polyline clip-path=\"url(#clip480)\" style=\"stroke:#000000; stroke-linecap:round; stroke-linejoin:round; stroke-width:4; stroke-opacity:1; fill:none\" points=\"204.86,938.765 223.758,938.765 \"/>\n",
       "<polyline clip-path=\"url(#clip480)\" style=\"stroke:#000000; stroke-linecap:round; stroke-linejoin:round; stroke-width:4; stroke-opacity:1; fill:none\" points=\"204.86,698.977 223.758,698.977 \"/>\n",
       "<polyline clip-path=\"url(#clip480)\" style=\"stroke:#000000; stroke-linecap:round; stroke-linejoin:round; stroke-width:4; stroke-opacity:1; fill:none\" points=\"204.86,459.189 223.758,459.189 \"/>\n",
       "<polyline clip-path=\"url(#clip480)\" style=\"stroke:#000000; stroke-linecap:round; stroke-linejoin:round; stroke-width:4; stroke-opacity:1; fill:none\" points=\"204.86,219.401 223.758,219.401 \"/>\n",
       "<path clip-path=\"url(#clip480)\" d=\"M156.217 1404.35 Q152.607 1404.41 150.841 1408.01 Q149.097 1411.58 149.222 1418.71 Q149.346 1425.82 151.213 1429.35 Q153.103 1432.86 156.714 1432.8 Q160.348 1432.73 162.091 1429.16 Q163.857 1425.56 163.733 1418.46 Q163.609 1411.33 161.719 1407.82 Q159.851 1404.29 156.217 1404.35 M156.153 1400.65 Q161.962 1400.55 165.097 1405.1 Q168.256 1409.63 168.408 1418.38 Q168.561 1427.1 165.563 1431.76 Q162.588 1436.4 156.778 1436.5 Q150.969 1436.6 147.811 1432.07 Q144.676 1427.52 144.523 1418.79 Q144.371 1410.04 147.346 1405.41 Q150.343 1400.75 156.153 1400.65 Z\" fill=\"#000000\" fill-rule=\"nonzero\" fill-opacity=\"1\" /><path clip-path=\"url(#clip480)\" d=\"M147.207 1161.64 L165.56 1161.32 L165.629 1165.26 L151.557 1165.5 L151.705 1173.97 Q152.717 1173.61 153.733 1173.43 Q154.748 1173.22 155.766 1173.21 Q161.552 1173.11 164.987 1176.22 Q168.421 1179.33 168.516 1184.74 Q168.613 1190.32 165.196 1193.48 Q161.778 1196.62 155.459 1196.73 Q153.284 1196.77 151.009 1196.44 Q148.758 1196.11 146.338 1195.41 L146.256 1190.71 Q148.358 1191.81 150.59 1192.33 Q152.822 1192.84 155.298 1192.8 Q159.302 1192.73 161.603 1190.58 Q163.904 1188.44 163.841 1184.83 Q163.778 1181.22 161.403 1179.15 Q159.029 1177.08 155.025 1177.15 Q153.15 1177.19 151.283 1177.64 Q149.438 1178.09 147.51 1179 L147.207 1161.64 Z\" fill=\"#000000\" fill-rule=\"nonzero\" fill-opacity=\"1\" /><path clip-path=\"url(#clip480)\" d=\"M117.352 953.003 L124.99 952.87 L124.53 926.509 L116.25 928.32 L116.176 924.061 L124.409 922.251 L129.085 922.169 L129.619 952.789 L137.257 952.656 L137.325 956.591 L117.421 956.938 L117.352 953.003 Z\" fill=\"#000000\" fill-rule=\"nonzero\" fill-opacity=\"1\" /><path clip-path=\"url(#clip480)\" d=\"M156.217 924.775 Q152.607 924.838 150.841 928.434 Q149.097 932.006 149.222 939.135 Q149.346 946.24 151.213 949.773 Q153.103 953.282 156.714 953.219 Q160.348 953.156 162.091 949.583 Q163.857 945.987 163.733 938.882 Q163.609 931.753 161.719 928.244 Q159.851 924.711 156.217 924.775 M156.153 921.072 Q161.962 920.97 165.097 925.523 Q168.256 930.051 168.408 938.8 Q168.561 947.526 165.563 952.185 Q162.588 956.821 156.778 956.922 Q150.969 957.024 147.811 952.495 Q144.676 947.942 144.523 939.217 Q144.371 930.468 147.346 925.832 Q150.343 921.173 156.153 921.072 Z\" fill=\"#000000\" fill-rule=\"nonzero\" fill-opacity=\"1\" /><path clip-path=\"url(#clip480)\" d=\"M118.348 713.198 L125.985 713.065 L125.525 686.703 L117.245 688.515 L117.171 684.256 L125.405 682.445 L130.08 682.364 L130.614 712.984 L138.252 712.851 L138.321 716.785 L118.416 717.133 L118.348 713.198 Z\" fill=\"#000000\" fill-rule=\"nonzero\" fill-opacity=\"1\" /><path clip-path=\"url(#clip480)\" d=\"M147.207 682.065 L165.56 681.744 L165.629 685.679 L151.557 685.925 L151.705 694.395 Q152.717 694.031 153.733 693.851 Q154.748 693.648 155.766 693.63 Q161.552 693.529 164.987 696.641 Q168.421 699.753 168.516 705.168 Q168.613 710.746 165.196 713.908 Q161.778 717.047 155.459 717.157 Q153.284 717.195 151.009 716.865 Q148.758 716.534 146.338 715.835 L146.256 711.137 Q148.358 712.234 150.59 712.751 Q152.822 713.268 155.298 713.224 Q159.302 713.155 161.603 711.008 Q163.904 708.861 163.841 705.25 Q163.778 701.64 161.403 699.574 Q159.029 697.509 155.025 697.579 Q153.15 697.611 151.283 698.061 Q149.438 698.51 147.51 699.423 L147.207 682.065 Z\" fill=\"#000000\" fill-rule=\"nonzero\" fill-opacity=\"1\" /><path clip-path=\"url(#clip480)\" d=\"M120.57 473.371 L136.886 473.086 L136.955 477.021 L115.014 477.404 L114.945 473.469 Q117.559 470.669 122.061 465.96 Q126.585 461.227 127.742 459.864 Q129.943 457.302 130.792 455.551 Q131.664 453.777 131.635 452.087 Q131.587 449.333 129.612 447.631 Q127.661 445.929 124.56 445.983 Q122.361 446.021 119.921 446.828 Q117.504 447.634 114.754 449.233 L114.671 444.512 Q117.475 443.328 119.919 442.707 Q122.362 442.085 124.398 442.05 Q129.768 441.956 133.009 444.585 Q136.25 447.214 136.328 451.704 Q136.365 453.833 135.589 455.769 Q134.835 457.68 132.774 460.309 Q132.207 460.99 129.162 464.262 Q126.116 467.51 120.57 473.371 Z\" fill=\"#000000\" fill-rule=\"nonzero\" fill-opacity=\"1\" /><path clip-path=\"url(#clip480)\" d=\"M156.217 445.199 Q152.607 445.262 150.841 448.858 Q149.097 452.43 149.222 459.559 Q149.346 466.664 151.213 470.197 Q153.103 473.706 156.714 473.643 Q160.348 473.58 162.091 470.007 Q163.857 466.411 163.733 459.306 Q163.609 452.177 161.719 448.668 Q159.851 445.135 156.217 445.199 M156.153 441.495 Q161.962 441.394 165.097 445.947 Q168.256 450.475 168.408 459.224 Q168.561 467.949 165.563 472.609 Q162.588 477.245 156.778 477.346 Q150.969 477.448 147.811 472.919 Q144.676 468.366 144.523 459.641 Q144.371 450.892 147.346 446.256 Q150.343 441.597 156.153 441.495 Z\" fill=\"#000000\" fill-rule=\"nonzero\" fill-opacity=\"1\" /><path clip-path=\"url(#clip480)\" d=\"M121.565 233.566 L137.882 233.281 L137.95 237.216 L116.009 237.599 L115.941 233.664 Q118.554 230.863 123.056 226.154 Q127.581 221.422 128.737 220.059 Q130.938 217.497 131.788 215.746 Q132.66 213.971 132.63 212.282 Q132.582 209.527 130.608 207.825 Q128.656 206.123 125.555 206.177 Q123.356 206.216 120.916 207.022 Q118.499 207.828 115.749 209.428 L115.667 204.706 Q118.471 203.523 120.914 202.901 Q123.357 202.28 125.394 202.244 Q130.763 202.151 134.004 204.78 Q137.245 207.409 137.323 211.899 Q137.36 214.028 136.584 215.963 Q135.83 217.875 133.769 220.504 Q133.202 221.185 130.157 224.456 Q127.111 227.704 121.565 233.566 Z\" fill=\"#000000\" fill-rule=\"nonzero\" fill-opacity=\"1\" /><path clip-path=\"url(#clip480)\" d=\"M147.207 202.489 L165.56 202.168 L165.629 206.103 L151.557 206.349 L151.705 214.819 Q152.717 214.454 153.733 214.275 Q154.748 214.072 155.766 214.054 Q161.552 213.953 164.987 217.065 Q168.421 220.177 168.516 225.592 Q168.613 231.17 165.196 234.332 Q161.778 237.471 155.459 237.581 Q153.284 237.619 151.009 237.289 Q148.758 236.957 146.338 236.259 L146.256 231.56 Q148.358 232.658 150.59 233.175 Q152.822 233.692 155.298 233.648 Q159.302 233.578 161.603 231.432 Q163.904 229.285 163.841 225.674 Q163.778 222.063 161.403 219.998 Q159.029 217.933 155.025 218.003 Q153.15 218.035 151.283 218.485 Q149.438 218.934 147.51 219.847 L147.207 202.489 Z\" fill=\"#000000\" fill-rule=\"nonzero\" fill-opacity=\"1\" /><path clip-path=\"url(#clip480)\" d=\"M42.4881 1034.81 L64.0042 1034.81 L64.0042 1040.67 L42.679 1040.67 Q37.6183 1040.67 35.1038 1042.64 Q32.5894 1044.62 32.5894 1048.56 Q32.5894 1053.31 35.6131 1056.04 Q38.6368 1058.78 43.8567 1058.78 L64.0042 1058.78 L64.0042 1064.67 L28.3562 1064.67 L28.3562 1058.78 L33.8944 1058.78 Q30.6797 1056.68 29.0883 1053.85 Q27.4968 1050.98 27.4968 1047.26 Q27.4968 1041.12 31.3163 1037.96 Q35.1038 1034.81 42.4881 1034.81 Z\" fill=\"#000000\" fill-rule=\"nonzero\" fill-opacity=\"1\" /><path clip-path=\"url(#clip480)\" d=\"M49.9359 1023.74 L28.3562 1023.74 L28.3562 1017.88 L49.7131 1017.88 Q54.7739 1017.88 57.3202 1015.91 Q59.8346 1013.93 59.8346 1009.99 Q59.8346 1005.25 56.8109 1002.51 Q53.7872 999.739 48.5673 999.739 L28.3562 999.739 L28.3562 993.882 L64.0042 993.882 L64.0042 999.739 L58.5296 999.739 Q61.7762 1001.87 63.3676 1004.7 Q64.9272 1007.51 64.9272 1011.23 Q64.9272 1017.37 61.1078 1020.55 Q57.2883 1023.74 49.9359 1023.74 M27.4968 1009 L27.4968 1009 Z\" fill=\"#000000\" fill-rule=\"nonzero\" fill-opacity=\"1\" /><path clip-path=\"url(#clip480)\" d=\"M35.1993 954.065 Q31.2526 951.869 29.3747 948.813 Q27.4968 945.758 27.4968 941.62 Q27.4968 936.05 31.4117 933.026 Q35.2948 930.003 42.4881 930.003 L64.0042 930.003 L64.0042 935.891 L42.679 935.891 Q37.5546 935.891 35.072 937.705 Q32.5894 939.519 32.5894 943.243 Q32.5894 947.795 35.6131 950.437 Q38.6368 953.078 43.8567 953.078 L64.0042 953.078 L64.0042 958.967 L42.679 958.967 Q37.5228 958.967 35.072 960.781 Q32.5894 962.595 32.5894 966.383 Q32.5894 970.87 35.6449 973.512 Q38.6686 976.154 43.8567 976.154 L64.0042 976.154 L64.0042 982.042 L28.3562 982.042 L28.3562 976.154 L33.8944 976.154 Q30.616 974.149 29.0564 971.348 Q27.4968 968.547 27.4968 964.696 Q27.4968 960.813 29.4702 958.107 Q31.4436 955.37 35.1993 954.065 Z\" fill=\"#000000\" fill-rule=\"nonzero\" fill-opacity=\"1\" /><path clip-path=\"url(#clip480)\" d=\"M46.212 892.731 Q39.7508 892.731 36.0905 895.405 Q32.3984 898.047 32.3984 902.694 Q32.3984 907.341 36.0905 910.014 Q39.7508 912.656 46.212 912.656 Q52.6732 912.656 56.3653 910.014 Q60.0256 907.341 60.0256 902.694 Q60.0256 898.047 56.3653 895.405 Q52.6732 892.731 46.212 892.731 M33.7671 912.656 Q30.5842 910.81 29.0564 908.009 Q27.4968 905.176 27.4968 901.261 Q27.4968 894.768 32.6531 890.726 Q37.8093 886.652 46.212 886.652 Q54.6147 886.652 59.771 890.726 Q64.9272 894.768 64.9272 901.261 Q64.9272 905.176 63.3994 908.009 Q61.8398 910.81 58.657 912.656 L64.0042 912.656 L64.0042 918.544 L14.479 918.544 L14.479 912.656 L33.7671 912.656 Z\" fill=\"#000000\" fill-rule=\"nonzero\" fill-opacity=\"1\" /><path clip-path=\"url(#clip480)\" d=\"M44.7161 846.453 L47.5806 846.453 L47.5806 873.38 Q53.6281 872.998 56.8109 869.751 Q59.9619 866.473 59.9619 860.648 Q59.9619 857.274 59.1344 854.123 Q58.3069 850.941 56.6518 847.821 L62.1899 847.821 Q63.5267 850.972 64.227 854.283 Q64.9272 857.593 64.9272 860.998 Q64.9272 869.528 59.9619 874.525 Q54.9967 879.491 46.5303 879.491 Q37.7774 879.491 32.6531 874.78 Q27.4968 870.038 27.4968 862.017 Q27.4968 854.824 32.1438 850.654 Q36.7589 846.453 44.7161 846.453 M42.9973 852.309 Q38.1912 852.373 35.3266 855.015 Q32.4621 857.625 32.4621 861.953 Q32.4621 866.855 35.2312 869.815 Q38.0002 872.743 43.0292 873.189 L42.9973 852.309 Z\" fill=\"#000000\" fill-rule=\"nonzero\" fill-opacity=\"1\" /><path clip-path=\"url(#clip480)\" d=\"M33.8307 816.184 Q33.2578 817.17 33.0032 818.348 Q32.7167 819.494 32.7167 820.894 Q32.7167 825.86 35.9632 828.533 Q39.1779 831.175 45.2253 831.175 L64.0042 831.175 L64.0042 837.063 L28.3562 837.063 L28.3562 831.175 L33.8944 831.175 Q30.6479 829.329 29.0883 826.369 Q27.4968 823.409 27.4968 819.176 Q27.4968 818.571 27.5923 817.839 Q27.656 817.107 27.8151 816.216 L33.8307 816.184 Z\" fill=\"#000000\" fill-rule=\"nonzero\" fill-opacity=\"1\" /><path clip-path=\"url(#clip480)\" d=\"M32.4621 775.507 Q32.4621 780.218 36.1542 782.955 Q39.8145 785.692 46.212 785.692 Q52.6095 785.692 56.3017 782.987 Q59.9619 780.249 59.9619 775.507 Q59.9619 770.828 56.2698 768.091 Q52.5777 765.354 46.212 765.354 Q39.8781 765.354 36.186 768.091 Q32.4621 770.828 32.4621 775.507 M27.4968 775.507 Q27.4968 767.868 32.4621 763.508 Q37.4273 759.147 46.212 759.147 Q54.9649 759.147 59.9619 763.508 Q64.9272 767.868 64.9272 775.507 Q64.9272 783.178 59.9619 787.538 Q54.9649 791.867 46.212 791.867 Q37.4273 791.867 32.4621 787.538 Q27.4968 783.178 27.4968 775.507 Z\" fill=\"#000000\" fill-rule=\"nonzero\" fill-opacity=\"1\" /><path clip-path=\"url(#clip480)\" d=\"M14.479 731.393 L19.3487 731.393 L19.3487 736.994 Q19.3487 740.145 20.6219 741.387 Q21.895 742.596 25.2052 742.596 L28.3562 742.596 L28.3562 732.952 L32.9077 732.952 L32.9077 742.596 L64.0042 742.596 L64.0042 748.484 L32.9077 748.484 L32.9077 754.086 L28.3562 754.086 L28.3562 748.484 L25.8736 748.484 Q19.9216 748.484 17.2162 745.715 Q14.479 742.946 14.479 736.931 L14.479 731.393 Z\" fill=\"#000000\" fill-rule=\"nonzero\" fill-opacity=\"1\" /><path clip-path=\"url(#clip480)\" d=\"M28.3562 705.771 L28.3562 699.914 L64.0042 699.914 L64.0042 705.771 L28.3562 705.771 M14.479 705.771 L14.479 699.914 L21.895 699.914 L21.895 705.771 L14.479 705.771 Z\" fill=\"#000000\" fill-rule=\"nonzero\" fill-opacity=\"1\" /><path clip-path=\"url(#clip480)\" d=\"M18.2347 681.867 L28.3562 681.867 L28.3562 669.804 L32.9077 669.804 L32.9077 681.867 L52.2594 681.867 Q56.6199 681.867 57.8613 680.69 Q59.1026 679.48 59.1026 675.82 L59.1026 669.804 L64.0042 669.804 L64.0042 675.82 Q64.0042 682.599 61.4897 685.178 Q58.9434 687.756 52.2594 687.756 L32.9077 687.756 L32.9077 692.052 L28.3562 692.052 L28.3562 687.756 L18.2347 687.756 L18.2347 681.867 Z\" fill=\"#000000\" fill-rule=\"nonzero\" fill-opacity=\"1\" /><path clip-path=\"url(#clip480)\" d=\"M44.7161 631.61 L47.5806 631.61 L47.5806 658.537 Q53.6281 658.155 56.8109 654.909 Q59.9619 651.63 59.9619 645.806 Q59.9619 642.432 59.1344 639.281 Q58.3069 636.098 56.6518 632.979 L62.1899 632.979 Q63.5267 636.13 64.227 639.44 Q64.9272 642.75 64.9272 646.156 Q64.9272 654.686 59.9619 659.683 Q54.9967 664.648 46.5303 664.648 Q37.7774 664.648 32.6531 659.937 Q27.4968 655.195 27.4968 647.174 Q27.4968 639.981 32.1438 635.811 Q36.7589 631.61 44.7161 631.61 M42.9973 637.467 Q38.1912 637.53 35.3266 640.172 Q32.4621 642.782 32.4621 647.111 Q32.4621 652.012 35.2312 654.972 Q38.0002 657.9 43.0292 658.346 L42.9973 637.467 Z\" fill=\"#000000\" fill-rule=\"nonzero\" fill-opacity=\"1\" /><path clip-path=\"url(#clip480)\" d=\"M33.8307 601.341 Q33.2578 602.328 33.0032 603.505 Q32.7167 604.651 32.7167 606.052 Q32.7167 611.017 35.9632 613.691 Q39.1779 616.332 45.2253 616.332 L64.0042 616.332 L64.0042 622.221 L28.3562 622.221 L28.3562 616.332 L33.8944 616.332 Q30.6479 614.486 29.0883 611.526 Q27.4968 608.566 27.4968 604.333 Q27.4968 603.728 27.5923 602.996 Q27.656 602.264 27.8151 601.373 L33.8307 601.341 Z\" fill=\"#000000\" fill-rule=\"nonzero\" fill-opacity=\"1\" /><path clip-path=\"url(#clip480)\" d=\"M46.0847 578.998 Q46.0847 586.095 47.7079 588.833 Q49.3312 591.57 53.2461 591.57 Q56.3653 591.57 58.2114 589.533 Q60.0256 587.464 60.0256 583.931 Q60.0256 579.061 56.5881 576.133 Q53.1188 573.173 47.3897 573.173 L46.0847 573.173 L46.0847 578.998 M43.6657 567.316 L64.0042 567.316 L64.0042 573.173 L58.5933 573.173 Q61.8398 575.178 63.3994 578.17 Q64.9272 581.162 64.9272 585.491 Q64.9272 590.965 61.8716 594.212 Q58.7843 597.426 53.6281 597.426 Q47.6125 597.426 44.5569 593.416 Q41.5014 589.374 41.5014 581.385 L41.5014 573.173 L40.9285 573.173 Q36.8862 573.173 34.6901 575.847 Q32.4621 578.488 32.4621 583.294 Q32.4621 586.35 33.1941 589.246 Q33.9262 592.143 35.3903 594.816 L29.9795 594.816 Q28.7381 591.602 28.1334 588.578 Q27.4968 585.554 27.4968 582.69 Q27.4968 574.955 31.5072 571.136 Q35.5176 567.316 43.6657 567.316 Z\" fill=\"#000000\" fill-rule=\"nonzero\" fill-opacity=\"1\" /><path clip-path=\"url(#clip480)\" d=\"M18.2347 549.461 L28.3562 549.461 L28.3562 537.398 L32.9077 537.398 L32.9077 549.461 L52.2594 549.461 Q56.6199 549.461 57.8613 548.283 Q59.1026 547.074 59.1026 543.413 L59.1026 537.398 L64.0042 537.398 L64.0042 543.413 Q64.0042 550.193 61.4897 552.771 Q58.9434 555.349 52.2594 555.349 L32.9077 555.349 L32.9077 559.646 L28.3562 559.646 L28.3562 555.349 L18.2347 555.349 L18.2347 549.461 Z\" fill=\"#000000\" fill-rule=\"nonzero\" fill-opacity=\"1\" /><path clip-path=\"url(#clip480)\" d=\"M28.3562 529.695 L28.3562 523.839 L64.0042 523.839 L64.0042 529.695 L28.3562 529.695 M14.479 529.695 L14.479 523.839 L21.895 523.839 L21.895 529.695 L14.479 529.695 Z\" fill=\"#000000\" fill-rule=\"nonzero\" fill-opacity=\"1\" /><path clip-path=\"url(#clip480)\" d=\"M32.4621 497.771 Q32.4621 502.482 36.1542 505.219 Q39.8145 507.956 46.212 507.956 Q52.6095 507.956 56.3017 505.251 Q59.9619 502.514 59.9619 497.771 Q59.9619 493.092 56.2698 490.355 Q52.5777 487.618 46.212 487.618 Q39.8781 487.618 36.186 490.355 Q32.4621 493.092 32.4621 497.771 M27.4968 497.771 Q27.4968 490.132 32.4621 485.772 Q37.4273 481.411 46.212 481.411 Q54.9649 481.411 59.9619 485.772 Q64.9272 490.132 64.9272 497.771 Q64.9272 505.442 59.9619 509.802 Q54.9649 514.131 46.212 514.131 Q37.4273 514.131 32.4621 509.802 Q27.4968 505.442 27.4968 497.771 Z\" fill=\"#000000\" fill-rule=\"nonzero\" fill-opacity=\"1\" /><path clip-path=\"url(#clip480)\" d=\"M42.4881 442.071 L64.0042 442.071 L64.0042 447.928 L42.679 447.928 Q37.6183 447.928 35.1038 449.901 Q32.5894 451.874 32.5894 455.821 Q32.5894 460.564 35.6131 463.301 Q38.6368 466.038 43.8567 466.038 L64.0042 466.038 L64.0042 471.926 L28.3562 471.926 L28.3562 466.038 L33.8944 466.038 Q30.6797 463.937 29.0883 461.105 Q27.4968 458.24 27.4968 454.516 Q27.4968 448.373 31.3163 445.222 Q35.1038 442.071 42.4881 442.071 Z\" fill=\"#000000\" fill-rule=\"nonzero\" fill-opacity=\"1\" /><path clip-path=\"url(#clip480)\" d=\"M29.4065 407.665 L34.9447 407.665 Q33.6716 410.147 33.035 412.821 Q32.3984 415.494 32.3984 418.359 Q32.3984 422.719 33.7352 424.916 Q35.072 427.08 37.7456 427.08 Q39.7826 427.08 40.9603 425.52 Q42.1061 423.961 43.1565 419.25 L43.6021 417.245 Q44.9389 411.007 47.3897 408.397 Q49.8086 405.755 54.1691 405.755 Q59.1344 405.755 62.0308 409.702 Q64.9272 413.616 64.9272 420.491 Q64.9272 423.356 64.3543 426.475 Q63.8132 429.563 62.6992 433 L56.6518 433 Q58.3387 429.754 59.198 426.603 Q60.0256 423.451 60.0256 420.364 Q60.0256 416.226 58.6251 413.998 Q57.1929 411.77 54.6147 411.77 Q52.2276 411.77 50.9545 413.394 Q49.6813 414.985 48.5037 420.428 L48.0262 422.465 Q46.8804 427.907 44.5251 430.326 Q42.138 432.745 38.0002 432.745 Q32.9713 432.745 30.2341 429.181 Q27.4968 425.616 27.4968 419.059 Q27.4968 415.813 27.9743 412.948 Q28.4517 410.084 29.4065 407.665 Z\" fill=\"#000000\" fill-rule=\"nonzero\" fill-opacity=\"1\" /><circle clip-path=\"url(#clip482)\" cx=\"265.65\" cy=\"1370.38\" r=\"14.4\" fill=\"#009af9\" fill-rule=\"evenodd\" fill-opacity=\"1\" stroke=\"#000000\" stroke-opacity=\"1\" stroke-width=\"3.2\"/>\n",
       "<circle clip-path=\"url(#clip482)\" cx=\"941.089\" cy=\"1245.69\" r=\"14.4\" fill=\"#009af9\" fill-rule=\"evenodd\" fill-opacity=\"1\" stroke=\"#000000\" stroke-opacity=\"1\" stroke-width=\"3.2\"/>\n",
       "<circle clip-path=\"url(#clip482)\" cx=\"1616.53\" cy=\"1173.76\" r=\"14.4\" fill=\"#009af9\" fill-rule=\"evenodd\" fill-opacity=\"1\" stroke=\"#000000\" stroke-opacity=\"1\" stroke-width=\"3.2\"/>\n",
       "<circle clip-path=\"url(#clip482)\" cx=\"2291.97\" cy=\"1034.68\" r=\"14.4\" fill=\"#009af9\" fill-rule=\"evenodd\" fill-opacity=\"1\" stroke=\"#000000\" stroke-opacity=\"1\" stroke-width=\"3.2\"/>\n",
       "<polyline clip-path=\"url(#clip482)\" style=\"stroke:#e26f46; stroke-linecap:round; stroke-linejoin:round; stroke-width:4; stroke-opacity:1; fill:none\" points=\"265.65,1384.24 941.089,1245.69 1616.53,872.69 2291.97,86.1857 \"/>\n",
       "<path clip-path=\"url(#clip480)\" d=\"M276.457 248.629 L976.336 248.629 L976.336 93.1086 L276.457 93.1086  Z\" fill=\"#ffffff\" fill-rule=\"evenodd\" fill-opacity=\"1\"/>\n",
       "<polyline clip-path=\"url(#clip480)\" style=\"stroke:#000000; stroke-linecap:round; stroke-linejoin:round; stroke-width:4; stroke-opacity:1; fill:none\" points=\"276.457,248.629 976.336,248.629 976.336,93.1086 276.457,93.1086 276.457,248.629 \"/>\n",
       "<circle clip-path=\"url(#clip480)\" cx=\"371.919\" cy=\"144.949\" r=\"20.48\" fill=\"#009af9\" fill-rule=\"evenodd\" fill-opacity=\"1\" stroke=\"#000000\" stroke-opacity=\"1\" stroke-width=\"4.55111\"/>\n",
       "<path clip-path=\"url(#clip480)\" d=\"M467.381 127.669 L473.677 127.669 L489.001 156.581 L489.001 127.669 L493.538 127.669 L493.538 162.229 L487.242 162.229 L471.918 133.317 L471.918 162.229 L467.381 162.229 L467.381 127.669 Z\" fill=\"#000000\" fill-rule=\"nonzero\" fill-opacity=\"1\" /><path clip-path=\"url(#clip480)\" d=\"M502.218 151.997 L502.218 136.303 L506.478 136.303 L506.478 151.835 Q506.478 155.516 507.913 157.368 Q509.348 159.196 512.218 159.196 Q515.668 159.196 517.658 156.997 Q519.672 154.798 519.672 151.002 L519.672 136.303 L523.931 136.303 L523.931 162.229 L519.672 162.229 L519.672 158.247 Q518.121 160.608 516.061 161.766 Q514.024 162.9 511.316 162.9 Q506.848 162.9 504.533 160.122 Q502.218 157.344 502.218 151.997 M512.936 135.678 L512.936 135.678 Z\" fill=\"#000000\" fill-rule=\"nonzero\" fill-opacity=\"1\" /><path clip-path=\"url(#clip480)\" d=\"M552.89 141.28 Q554.487 138.409 556.709 137.044 Q558.931 135.678 561.94 135.678 Q565.991 135.678 568.19 138.525 Q570.389 141.349 570.389 146.581 L570.389 162.229 L566.107 162.229 L566.107 146.719 Q566.107 142.993 564.788 141.187 Q563.468 139.382 560.76 139.382 Q557.45 139.382 555.528 141.581 Q553.607 143.78 553.607 147.576 L553.607 162.229 L549.325 162.229 L549.325 146.719 Q549.325 142.969 548.005 141.187 Q546.686 139.382 543.931 139.382 Q540.667 139.382 538.746 141.604 Q536.825 143.803 536.825 147.576 L536.825 162.229 L532.542 162.229 L532.542 136.303 L536.825 136.303 L536.825 140.331 Q538.283 137.946 540.32 136.812 Q542.357 135.678 545.158 135.678 Q547.982 135.678 549.95 137.113 Q551.94 138.548 552.89 141.28 Z\" fill=\"#000000\" fill-rule=\"nonzero\" fill-opacity=\"1\" /><path clip-path=\"url(#clip480)\" d=\"M597.496 149.289 Q597.496 144.59 595.551 141.928 Q593.63 139.243 590.25 139.243 Q586.871 139.243 584.926 141.928 Q583.005 144.59 583.005 149.289 Q583.005 153.988 584.926 156.673 Q586.871 159.335 590.25 159.335 Q593.63 159.335 595.551 156.673 Q597.496 153.988 597.496 149.289 M583.005 140.238 Q584.348 137.923 586.385 136.812 Q588.445 135.678 591.292 135.678 Q596.014 135.678 598.954 139.428 Q601.917 143.178 601.917 149.289 Q601.917 155.4 598.954 159.15 Q596.014 162.9 591.292 162.9 Q588.445 162.9 586.385 161.789 Q584.348 160.655 583.005 158.34 L583.005 162.229 L578.723 162.229 L578.723 126.21 L583.005 126.21 L583.005 140.238 Z\" fill=\"#000000\" fill-rule=\"nonzero\" fill-opacity=\"1\" /><path clip-path=\"url(#clip480)\" d=\"M631.153 148.201 L631.153 150.284 L611.57 150.284 Q611.848 154.682 614.209 156.997 Q616.593 159.289 620.829 159.289 Q623.283 159.289 625.574 158.687 Q627.889 158.085 630.158 156.881 L630.158 160.909 Q627.866 161.881 625.459 162.391 Q623.051 162.9 620.574 162.9 Q614.371 162.9 610.736 159.289 Q607.125 155.678 607.125 149.52 Q607.125 143.155 610.551 139.428 Q614 135.678 619.834 135.678 Q625.065 135.678 628.097 139.057 Q631.153 142.414 631.153 148.201 M626.894 146.951 Q626.847 143.456 624.926 141.372 Q623.028 139.289 619.88 139.289 Q616.315 139.289 614.162 141.303 Q612.033 143.317 611.709 146.974 L626.894 146.951 Z\" fill=\"#000000\" fill-rule=\"nonzero\" fill-opacity=\"1\" /><path clip-path=\"url(#clip480)\" d=\"M653.167 140.284 Q652.449 139.868 651.593 139.682 Q650.759 139.474 649.741 139.474 Q646.13 139.474 644.185 141.835 Q642.264 144.173 642.264 148.571 L642.264 162.229 L637.982 162.229 L637.982 136.303 L642.264 136.303 L642.264 140.331 Q643.607 137.969 645.759 136.835 Q647.912 135.678 650.991 135.678 Q651.431 135.678 651.963 135.747 Q652.495 135.794 653.144 135.909 L653.167 140.284 Z\" fill=\"#000000\" fill-rule=\"nonzero\" fill-opacity=\"1\" /><path clip-path=\"url(#clip480)\" d=\"M682.75 139.289 Q679.324 139.289 677.333 141.974 Q675.343 144.636 675.343 149.289 Q675.343 153.942 677.31 156.627 Q679.301 159.289 682.75 159.289 Q686.153 159.289 688.143 156.604 Q690.134 153.918 690.134 149.289 Q690.134 144.682 688.143 141.997 Q686.153 139.289 682.75 139.289 M682.75 135.678 Q688.305 135.678 691.477 139.289 Q694.648 142.9 694.648 149.289 Q694.648 155.655 691.477 159.289 Q688.305 162.9 682.75 162.9 Q677.171 162.9 674 159.289 Q670.852 155.655 670.852 149.289 Q670.852 142.9 674 139.289 Q677.171 135.678 682.75 135.678 Z\" fill=\"#000000\" fill-rule=\"nonzero\" fill-opacity=\"1\" /><path clip-path=\"url(#clip480)\" d=\"M714.833 126.21 L714.833 129.752 L710.759 129.752 Q708.467 129.752 707.565 130.678 Q706.685 131.604 706.685 134.011 L706.685 136.303 L713.699 136.303 L713.699 139.613 L706.685 139.613 L706.685 162.229 L702.403 162.229 L702.403 139.613 L698.329 139.613 L698.329 136.303 L702.403 136.303 L702.403 134.497 Q702.403 130.169 704.416 128.201 Q706.43 126.21 710.805 126.21 L714.833 126.21 Z\" fill=\"#000000\" fill-rule=\"nonzero\" fill-opacity=\"1\" /><path clip-path=\"url(#clip480)\" d=\"M733.652 127.669 L738.328 127.669 L738.328 162.229 L733.652 162.229 L733.652 127.669 Z\" fill=\"#000000\" fill-rule=\"nonzero\" fill-opacity=\"1\" /><path clip-path=\"url(#clip480)\" d=\"M751.662 128.942 L751.662 136.303 L760.435 136.303 L760.435 139.613 L751.662 139.613 L751.662 153.687 Q751.662 156.858 752.518 157.761 Q753.398 158.664 756.06 158.664 L760.435 158.664 L760.435 162.229 L756.06 162.229 Q751.129 162.229 749.254 160.4 Q747.379 158.548 747.379 153.687 L747.379 139.613 L744.254 139.613 L744.254 136.303 L747.379 136.303 L747.379 128.942 L751.662 128.942 Z\" fill=\"#000000\" fill-rule=\"nonzero\" fill-opacity=\"1\" /><path clip-path=\"url(#clip480)\" d=\"M788.212 148.201 L788.212 150.284 L768.629 150.284 Q768.907 154.682 771.268 156.997 Q773.652 159.289 777.888 159.289 Q780.342 159.289 782.634 158.687 Q784.948 158.085 787.217 156.881 L787.217 160.909 Q784.925 161.881 782.518 162.391 Q780.111 162.9 777.634 162.9 Q771.43 162.9 767.796 159.289 Q764.185 155.678 764.185 149.52 Q764.185 143.155 767.611 139.428 Q771.06 135.678 776.893 135.678 Q782.124 135.678 785.157 139.057 Q788.212 142.414 788.212 148.201 M783.953 146.951 Q783.907 143.456 781.986 141.372 Q780.087 139.289 776.939 139.289 Q773.374 139.289 771.222 141.303 Q769.092 143.317 768.768 146.974 L783.953 146.951 Z\" fill=\"#000000\" fill-rule=\"nonzero\" fill-opacity=\"1\" /><path clip-path=\"url(#clip480)\" d=\"M810.226 140.284 Q809.509 139.868 808.652 139.682 Q807.819 139.474 806.8 139.474 Q803.189 139.474 801.245 141.835 Q799.323 144.173 799.323 148.571 L799.323 162.229 L795.041 162.229 L795.041 136.303 L799.323 136.303 L799.323 140.331 Q800.666 137.969 802.819 136.835 Q804.972 135.678 808.05 135.678 Q808.49 135.678 809.022 135.747 Q809.555 135.794 810.203 135.909 L810.226 140.284 Z\" fill=\"#000000\" fill-rule=\"nonzero\" fill-opacity=\"1\" /><path clip-path=\"url(#clip480)\" d=\"M826.476 149.196 Q821.314 149.196 819.323 150.377 Q817.333 151.557 817.333 154.405 Q817.333 156.673 818.814 158.016 Q820.319 159.335 822.888 159.335 Q826.43 159.335 828.559 156.835 Q830.712 154.312 830.712 150.145 L830.712 149.196 L826.476 149.196 M834.971 147.437 L834.971 162.229 L830.712 162.229 L830.712 158.293 Q829.254 160.655 827.078 161.789 Q824.902 162.9 821.754 162.9 Q817.772 162.9 815.411 160.678 Q813.073 158.432 813.073 154.682 Q813.073 150.307 815.99 148.085 Q818.93 145.863 824.74 145.863 L830.712 145.863 L830.712 145.446 Q830.712 142.507 828.768 140.909 Q826.846 139.289 823.351 139.289 Q821.129 139.289 819.022 139.821 Q816.916 140.354 814.971 141.419 L814.971 137.483 Q817.309 136.581 819.508 136.141 Q821.708 135.678 823.791 135.678 Q829.416 135.678 832.194 138.594 Q834.971 141.511 834.971 147.437 Z\" fill=\"#000000\" fill-rule=\"nonzero\" fill-opacity=\"1\" /><path clip-path=\"url(#clip480)\" d=\"M847.957 128.942 L847.957 136.303 L856.73 136.303 L856.73 139.613 L847.957 139.613 L847.957 153.687 Q847.957 156.858 848.814 157.761 Q849.693 158.664 852.356 158.664 L856.73 158.664 L856.73 162.229 L852.356 162.229 Q847.425 162.229 845.55 160.4 Q843.675 158.548 843.675 153.687 L843.675 139.613 L840.55 139.613 L840.55 136.303 L843.675 136.303 L843.675 128.942 L847.957 128.942 Z\" fill=\"#000000\" fill-rule=\"nonzero\" fill-opacity=\"1\" /><path clip-path=\"url(#clip480)\" d=\"M862.332 136.303 L866.592 136.303 L866.592 162.229 L862.332 162.229 L862.332 136.303 M862.332 126.21 L866.592 126.21 L866.592 131.604 L862.332 131.604 L862.332 126.21 Z\" fill=\"#000000\" fill-rule=\"nonzero\" fill-opacity=\"1\" /><path clip-path=\"url(#clip480)\" d=\"M885.55 139.289 Q882.124 139.289 880.133 141.974 Q878.142 144.636 878.142 149.289 Q878.142 153.942 880.11 156.627 Q882.101 159.289 885.55 159.289 Q888.953 159.289 890.943 156.604 Q892.934 153.918 892.934 149.289 Q892.934 144.682 890.943 141.997 Q888.953 139.289 885.55 139.289 M885.55 135.678 Q891.105 135.678 894.277 139.289 Q897.448 142.9 897.448 149.289 Q897.448 155.655 894.277 159.289 Q891.105 162.9 885.55 162.9 Q879.971 162.9 876.8 159.289 Q873.652 155.655 873.652 149.289 Q873.652 142.9 876.8 139.289 Q879.971 135.678 885.55 135.678 Z\" fill=\"#000000\" fill-rule=\"nonzero\" fill-opacity=\"1\" /><path clip-path=\"url(#clip480)\" d=\"M926.059 146.581 L926.059 162.229 L921.8 162.229 L921.8 146.719 Q921.8 143.039 920.364 141.21 Q918.929 139.382 916.059 139.382 Q912.61 139.382 910.619 141.581 Q908.628 143.78 908.628 147.576 L908.628 162.229 L904.346 162.229 L904.346 136.303 L908.628 136.303 L908.628 140.331 Q910.156 137.993 912.216 136.835 Q914.3 135.678 917.008 135.678 Q921.476 135.678 923.767 138.456 Q926.059 141.21 926.059 146.581 Z\" fill=\"#000000\" fill-rule=\"nonzero\" fill-opacity=\"1\" /><path clip-path=\"url(#clip480)\" d=\"M951.082 137.067 L951.082 141.094 Q949.276 140.169 947.332 139.706 Q945.387 139.243 943.304 139.243 Q940.133 139.243 938.536 140.215 Q936.962 141.187 936.962 143.131 Q936.962 144.613 938.096 145.469 Q939.23 146.303 942.656 147.067 L944.114 147.391 Q948.651 148.363 950.549 150.145 Q952.471 151.905 952.471 155.076 Q952.471 158.687 949.6 160.793 Q946.753 162.9 941.753 162.9 Q939.67 162.9 937.401 162.483 Q935.156 162.09 932.656 161.28 L932.656 156.881 Q935.017 158.108 937.309 158.733 Q939.6 159.335 941.846 159.335 Q944.855 159.335 946.475 158.317 Q948.096 157.275 948.096 155.4 Q948.096 153.664 946.915 152.738 Q945.758 151.812 941.799 150.956 L940.318 150.608 Q936.36 149.775 934.6 148.062 Q932.841 146.326 932.841 143.317 Q932.841 139.659 935.434 137.669 Q938.026 135.678 942.795 135.678 Q945.156 135.678 947.239 136.025 Q949.323 136.372 951.082 137.067 Z\" fill=\"#000000\" fill-rule=\"nonzero\" fill-opacity=\"1\" /><polyline clip-path=\"url(#clip480)\" style=\"stroke:#e26f46; stroke-linecap:round; stroke-linejoin:round; stroke-width:4; stroke-opacity:1; fill:none\" points=\"300.322,196.789 443.515,196.789 \"/>\n",
       "<path clip-path=\"url(#clip480)\" d=\"M492.033 188.143 L482.658 200.759 L492.519 214.069 L487.496 214.069 L479.95 203.883 L472.404 214.069 L467.381 214.069 L477.45 200.504 L468.237 188.143 L473.26 188.143 L480.135 197.379 L487.01 188.143 L492.033 188.143 Z\" fill=\"#000000\" fill-rule=\"nonzero\" fill-opacity=\"1\" /><path clip-path=\"url(#clip480)\" d=\"M516.2 179.509 L528.769 192.402 L524.117 192.402 L513.931 183.259 L503.746 192.402 L499.094 192.402 L511.663 179.509 L516.2 179.509 Z\" fill=\"#000000\" fill-rule=\"nonzero\" fill-opacity=\"1\" /><path clip-path=\"url(#clip480)\" d=\"M551.709 183.583 L539.903 202.032 L551.709 202.032 L551.709 183.583 M550.482 179.509 L556.362 179.509 L556.362 202.032 L561.292 202.032 L561.292 205.921 L556.362 205.921 L556.362 214.069 L551.709 214.069 L551.709 205.921 L536.107 205.921 L536.107 201.407 L550.482 179.509 Z\" fill=\"#000000\" fill-rule=\"nonzero\" fill-opacity=\"1\" /></svg>\n"
      ]
     },
     "execution_count": 12,
     "metadata": {},
     "output_type": "execute_result"
    }
   ],
   "source": [
    "using Plots\n",
    "plot(o,iterations,seriestype=:scatter,yaxis=:1,label=\"Number of Iterations\")\n",
    "c=@. iterations[2]*o^4/o[2]^4\n",
    "plot!(o,c,label=\"x^4\")\n",
    "xlabel!(\"nxn matrix\")\n",
    "ylabel!(\"number of iterations\")"
   ]
  },
  {
   "cell_type": "code",
   "execution_count": 17,
   "id": "69a37c1b-1ed0-4459-856c-5f49dcf91b73",
   "metadata": {},
   "outputs": [
    {
     "data": {
      "text/plain": [
       "4"
      ]
     },
     "execution_count": 17,
     "metadata": {},
     "output_type": "execute_result"
    }
   ],
   "source": [
    "numiter([4. 2. 1.5; 5.322 1. 2. ; 5. 8.3 1.])"
   ]
  },
  {
   "cell_type": "code",
   "execution_count": 46,
   "id": "845e2fc3-edc4-4bc7-9a3a-c9766b845c6e",
   "metadata": {},
   "outputs": [
    {
     "data": {
      "text/plain": [
       "iters (generic function with 1 method)"
      ]
     },
     "execution_count": 46,
     "metadata": {},
     "output_type": "execute_result"
    }
   ],
   "source": [
    "function iters(n::Int64)\n",
    "    av = []\n",
    "    mat =[]\n",
    "    for i in 1:20\n",
    "        a = rand(n,n)\n",
    "        t = numiter(a)\n",
    "        push!(av, t)\n",
    "        push!(mat,a)\n",
    "    end\n",
    "    b=findmax(av)\n",
    "    println(\"Full matrix with maximum iterations:\")\n",
    "    show(stdout, \"text/plain\", mat[b[2]])  # This will print the full matrix\n",
    "    return av, mean(av), median(av), b[1], b[2]\n",
    "end"
   ]
  },
  {
   "cell_type": "code",
   "execution_count": 30,
   "id": "a156c834-bee3-4ad2-9a6b-229d7abab8a5",
   "metadata": {},
   "outputs": [
    {
     "data": {
      "text/plain": [
       "1000"
      ]
     },
     "execution_count": 30,
     "metadata": {},
     "output_type": "execute_result"
    }
   ],
   "source": [
    "ENV[\"LINES\"] = 1000  # or a sufficiently large number\n",
    "ENV[\"COLUMNS\"] = 1000  # or a sufficiently large number"
   ]
  },
  {
   "cell_type": "code",
   "execution_count": 47,
   "id": "f89f3bfe-7a58-441b-b7f7-b97f08429a86",
   "metadata": {},
   "outputs": [
    {
     "name": "stdout",
     "output_type": "stream",
     "text": [
      "Full matrix with maximum iterations:\n",
      "20×20 Matrix{Float64}:\n",
      " 0.484771   0.591275   0.631783   0.238023   0.688687   0.72884   0.0273014  0.460224  0.589369    0.949924   0.266158    0.363435   0.938802   0.183848  0.859711    0.229226  0.338351    0.621248   0.810608   0.860612\n",
      " 0.109032   0.17035    0.773939   0.0942825  0.416312   0.304533  0.58683    0.935019  0.370751    0.266946   0.463047    0.681938   0.627423   0.455639  0.914885    0.753926  0.796985    0.0405363  0.29118    0.867986\n",
      " 0.123867   0.647958   0.409445   0.239476   0.0741803  0.544082  0.800204   0.13848   0.416907    0.538699   0.750648    0.642792   0.70013    0.154894  0.296385    0.568708  0.442876    0.622433   0.607368   0.931431\n",
      " 0.737914   0.200164   0.589644   0.761933   0.885      0.107375  0.0393433  0.467826  0.742246    0.0956097  0.163132    0.829278   0.736166   0.307878  0.709734    0.440764  0.0610903   0.300691   0.201268   0.23107\n",
      " 0.652592   0.491856   0.601642   0.18274    0.516319   0.989332  0.846026   0.363943  0.711298    0.457469   0.945686    0.519344   0.678276   0.804367  0.68728     0.881111  0.532911    0.809669   0.883761   0.192833\n",
      " 0.807766   0.324366   0.915216   0.529181   0.38924    0.779935  0.369483   0.644736  0.00609407  0.817927   0.666577    0.289057   0.939879   0.459052  0.0822975   0.548127  0.505376    0.745376   0.0316306  0.134\n",
      " 0.956509   0.34667    0.759386   0.289958   0.798655   0.257961  0.860637   0.364511  0.772931    0.947636   0.00655065  0.148504   0.0921677  0.794601  0.476273    0.967458  0.452321    0.54218    0.356055   0.483385\n",
      " 0.939893   0.293648   0.454921   0.707574   0.742912   0.453927  0.738473   0.253575  0.827549    0.599369   0.764347    0.20982    0.821514   0.612048  0.845042    0.792826  0.228639    0.489287   0.20139    0.283462\n",
      " 0.0511769  0.782108   0.967405   0.693013   0.304738   0.384622  0.375901   0.292161  0.0735099   0.204622   0.301408    0.829168   0.539559   0.974657  0.303611    0.618825  0.00577558  0.550323   0.286144   0.650298\n",
      " 0.305332   0.112228   0.858835   0.529244   0.693437   0.909352  0.768139   0.612048  0.353093    0.873901   0.495738    0.32339    0.812042   0.444589  0.491113    0.424156  0.457604    0.109871   0.379698   0.631188\n",
      " 0.733832   0.577656   0.0213805  0.670868   0.231696   0.728545  0.697162   0.111993  0.806839    0.347298   0.494687    0.247034   0.795871   0.944132  0.999645    0.64077   0.343502    0.350221   0.0845051  0.659814\n",
      " 0.403488   0.424141   0.805468   0.599562   0.179774   0.933747  0.595022   0.994803  0.970542    0.590665   0.886911    0.946421   0.393537   0.21866   0.367541    0.503297  0.712866    0.346396   0.856713   0.396197\n",
      " 0.294574   0.59198    0.198996   0.789216   0.306157   0.865152  0.906461   0.406325  0.586948    0.433716   0.243839    0.0980578  0.0701116  0.552673  0.590975    0.850395  0.850054    0.973097   0.676332   0.610624\n",
      " 0.75294    0.592167   0.718573   0.575907   0.146728   0.45361   0.239504   0.847481  0.352401    0.484517   0.4715      0.904667   0.91292    0.569186  0.912095    0.326864  0.0510801   0.624664   0.0389339  0.761344\n",
      " 0.720509   0.998998   0.181622   0.176354   0.136483   0.763548  0.0446522  0.447244  0.599897    0.492896   0.166851    0.615882   0.15204    0.345634  0.340206    0.268937  0.490534    0.913611   0.873623   0.548091\n",
      " 0.376223   0.957658   0.947419   0.400007   0.280138   0.208677  0.905495   0.721659  0.243689    0.76998    0.0799341   0.068346   0.115868   0.344711  0.38443     0.614699  0.461018    0.265287   0.519368   0.920062\n",
      " 0.775008   0.0331414  0.699277   0.45088    0.0308395  0.420471  0.189404   0.177875  0.242437    0.314001   0.948699    0.662506   0.629214   0.656962  0.803178    0.540726  0.303891    0.958096   0.381322   0.687463\n",
      " 0.586942   0.889338   0.380273   0.242177   0.598684   0.682938  0.374802   0.998868  0.236282    0.655023   0.667847    0.451674   0.61042    0.903848  0.00861213  0.281403  0.444953    0.162672   0.996553   0.0661112\n",
      " 0.124959   0.125766   0.839067   0.0401127  0.294873   0.195856  0.299297   0.203223  0.403414    0.408959   0.305518    0.554226   0.943543   0.300353  0.58852     0.439249  0.0805259   0.173939   0.739212   0.297462\n",
      " 0.129314   0.58928    0.0880564  0.570407   0.402395   0.596183  0.979041   0.343143  0.329079    0.265997   0.0812969   0.597084   0.233138   0.369527  0.144114    0.193481  0.888146    0.507801   0.983108   0.57289"
     ]
    },
    {
     "data": {
      "text/plain": [
       "(Any[836, 497, 745, 913, 390, 654, 281, 2297, 432, 603, 498, 413, 416, 559, 383, 426, 562, 5403, 494, 294], 854.8, 497.5, 5403, 18)"
      ]
     },
     "execution_count": 47,
     "metadata": {},
     "output_type": "execute_result"
    }
   ],
   "source": [
    "iters(20)"
   ]
  },
  {
   "cell_type": "code",
   "execution_count": 34,
   "id": "bdccf4ff-3f3b-45d9-896d-d59e04d683f8",
   "metadata": {},
   "outputs": [
    {
     "data": {
      "text/plain": [
       "hessfrancisqralg (generic function with 1 method)"
      ]
     },
     "execution_count": 34,
     "metadata": {},
     "output_type": "execute_result"
    }
   ],
   "source": [
    "function hessfrancisqralg(M::Matrix{Float64})\n",
    "    #count = 0\n",
    "    M = ComplexF64.(M) #Converts matrix into complex form\n",
    "    n = size(M, 1) #Calcaulates size of matrix (assumed square)\n",
    "    ϵ1 = 1e-5 #Error term (used to check when algorithm should terminate)\n",
    "    ϵ2 = (ϵ1)^2 #Sqaure of Error term (used to avoid having to take square root of complex numbers)\n",
    "    A = hessen(M, n, ϵ1) #Reduces matrix to hessenberg form\n",
    "    newA = francisqrdecomp(A, n, ϵ1) #Performs francis double shift QR decomposition\n",
    "    Eigen = extracteigen(A, n, ϵ1) #Makes list of eigenvalues of A\n",
    "    newEigen = extracteigen(newA, n, ϵ1) #Makes list of eigenvalues of newA\n",
    "    while all(abs2.(Eigen-newEigen) .< ϵ2) == false #checks if the eigenvalues of the newA and A are all within ϵ1\n",
    "                                                    #of each other and continues iterating if they are not\n",
    "        A = newA #Updates A\n",
    "        newA = francisqrdecomp(A, n, ϵ1) #Computes newA\n",
    "        Eigen = newEigen #Updates list of eigenvalues of A\n",
    "        newEigen = extracteigen(newA, n, ϵ1) #Updates list of eigenvalues of newA\n",
    "    end\n",
    "    for i in 1:n #Iterates over all eigenvalues\n",
    "        if abs2(newEigen[i].im) < ϵ2 #Checks if imaginary part of eigenvalue is within ϵ1 of 0\n",
    "            newEigen[i] = ComplexF64(newEigen[i].re) #If so, removes imaginary component so that the eigenvalue is real\n",
    "        end\n",
    "        if abs2(newEigen[i].re) < ϵ2 #Checks if real part of eigenvale is within ϵ1 of 0\n",
    "            newEigen[i] = ComplexF64(newEigen[i].im) #If so, removes real component so that the eigenvalue is imaginary\n",
    "        end\n",
    "    end\n",
    "    return newEigen #Returns eigenvalues\n",
    "end"
   ]
  },
  {
   "cell_type": "code",
   "execution_count": 35,
   "id": "b091f7c3-c4f1-4d45-899d-7ad9a932a114",
   "metadata": {},
   "outputs": [
    {
     "data": {
      "text/plain": [
       "20-element Vector{ComplexF64}:\n",
       "    10.051670153887777 + 0.0im\n",
       "     1.183844645593937 + 0.0im\n",
       "    1.0324587832529293 + 0.0im\n",
       "   -0.2909465730756904 - 1.1770513633866573im\n",
       "   -0.2909465730756905 + 1.1770513633866573im\n",
       "    0.5717868344008556 + 0.7113712299101003im\n",
       "    0.5717868344008556 - 0.7113712299101003im\n",
       "   -1.3995531923482714 + 0.0im\n",
       "    0.5725416295422534 + 0.0im\n",
       " -0.049287769281599954 - 0.8015558260475241im\n",
       "  -0.04928776928160005 + 0.8015558260475241im\n",
       "   -0.9293405354702173 + 0.3476057416860213im\n",
       "   -0.9293405354702173 - 0.3476057416860212im\n",
       "   -0.6480130910159458 - 0.4737238596192714im\n",
       "   -0.6480130910159458 + 0.4737238596192714im\n",
       "   0.03265848433040501 + 0.297025159641218im\n",
       "  0.032658484330390994 - 0.2970251596412149im\n",
       "   0.02371673022769133 + 0.0im\n",
       "   -0.2856027702647866 + 0.13061154977231226im\n",
       "  -0.28560284295765576 - 0.13061154977097109im"
      ]
     },
     "execution_count": 35,
     "metadata": {},
     "output_type": "execute_result"
    }
   ],
   "source": [
    "#~118000 iterations\n",
    "hessfrancisqralg([0.296463  0.674381   0.679824   0.812332   0.881889   0.986923    0.556672  0.390299    0.539757   0.820712  0.365726   0.434133   0.81881    0.351456   0.165416   0.361303    0.616026   0.249901    0.293116    0.592201\n",
    " 0.168743  0.0208759  0.205564   0.0127404  0.928853   0.46055     0.268949  0.710294    0.687032   0.154635  0.224504   0.667276   0.329172   0.0891307  0.933046   0.764293    0.237413   0.291866    0.69448     0.571379\n",
    " 0.416068  0.833254   0.0900747  0.149737   0.190843   0.508394    0.648398  0.44624     0.441604   0.605002  0.0362718  0.696787   0.757879   0.199006   0.935637   0.582059    0.919101   0.221777    0.437976    0.363791\n",
    " 0.58142   0.406054   0.949006   0.234735   0.0253415  0.261652    0.772119  0.414935    0.247247   0.358015  0.558411   0.81718    0.52277    0.572008   0.686868   0.0879429   0.640875   0.0164099   0.957472    0.838418\n",
    " 0.987338  0.983945   0.069164   0.170719   0.348862   0.693944    0.900531  0.194654    0.948755   0.806019  0.500222   0.0918888  0.754491   0.599371   0.979743   0.43577     0.655211   0.249261    0.259611    0.00332867\n",
    " 0.14192   0.905892   0.67872    0.525314   0.568772   0.655318    0.457682  0.624325    0.594601   0.565013  0.118209   0.688141   0.757167   0.26141    0.903621   0.394388    0.11588    0.61654     0.735544    0.248893\n",
    " 0.635078  0.632949   0.683643   0.966116   0.208734   0.6055      0.721519  0.598089    0.0369825  0.565198  0.196712   0.290386   0.580183   0.43011    0.347701   0.566138    0.704702   0.860094    0.121238    0.608429\n",
    " 0.687194  0.773264   0.920572   0.879799   0.139262   0.820648    0.693413  0.57459     0.352386   0.896096  0.183425   0.4449     0.935186   0.665262   0.908445   0.324714    0.497492   0.669755    0.247527    0.524059\n",
    " 0.624936  0.554712   0.505242   0.931059   0.501165   0.231313    0.995635  0.258629    0.438382   0.388376  0.301756   0.255287   0.106633   0.627512   0.507138   0.934614    0.699234   0.0717943   0.888477    0.732283\n",
    " 0.503696  0.131421   0.339429   0.256251   0.494865   0.592329    0.252308  0.411399    0.0590482  0.37088   0.402817   0.330978   0.310831   0.932402   0.0837546  0.410989    0.175881   0.846389    0.876406    0.765222\n",
    " 0.89797   0.810129   0.874403   0.157876   0.0481192  0.379564    0.651943  0.00941999  0.695469   0.1991    0.445619   0.465661   0.36194    0.664235   0.129842   0.870897    0.976747   0.45057     0.454739    0.518434\n",
    " 0.636617  0.329923   0.832149   0.146239   0.758636   0.73497     0.54977   0.756761    0.523706   0.05114   0.209253   0.0485441  0.539283   0.534969   0.350346   0.944581    0.0440765  0.747078    0.59723     0.278293\n",
    " 0.739488  0.956789   0.575643   0.327963   0.230852   0.00277977  0.931424  0.81541     0.115603   0.411484  0.949131   0.344348   0.588836   0.498735   0.945711   0.40904     0.472513   0.00622435  0.443969    0.542101\n",
    " 0.283982  0.42658    0.249276   0.688168   0.884036   0.448387    0.646566  0.317261    0.299989   0.558926  0.437895   0.999375   0.23308    0.437841   0.881477   0.499145    0.596624   0.472527    0.865154    0.849955\n",
    " 0.734388  0.999185   0.416865   0.123526   0.45029    0.72224     0.437814  0.77777     0.532014   0.11317   0.653276   0.341935   0.935105   0.313401   0.630135   0.176771    0.30809    0.331144    0.436851    0.36697\n",
    " 0.630116  0.0311851  0.346015   0.661056   0.338694   0.0336197   0.767081  0.910841    0.860724   0.65903   0.483917   0.548446   0.292599   0.500681   0.808306   0.00932934  0.365731   0.37969     0.42785     0.167514\n",
    " 0.21655   0.662532   0.718087   0.087261   0.222107   0.776541    0.467836  0.126623    0.726056   0.456507  0.351675   0.729294   0.858067   0.915086   0.76177    0.625624    0.384579   0.622497    0.887788    0.637407\n",
    " 0.944021  0.248185   0.966989   0.160729   0.466446   0.345727    0.543297  0.0464841   0.69527    0.159038  0.864835   0.211138   0.715356   0.728974   0.521609   0.0287463   0.725799   0.880478    0.00131595  0.280735\n",
    " 0.682568  0.551174   0.388944   0.476966   0.158354   0.343216    0.188664  0.232748    0.913064   0.32251   0.824918   0.943504   0.0751132  0.985054   0.391193   0.127106    0.447248   0.136576    0.494762    0.0542478\n",
    " 0.368379  0.21648    0.21033    0.238555   0.933147   0.0400397   0.61427   0.383346    0.728921   0.901831  0.32458    0.4755     0.324758   0.979219   0.268495   0.690166    0.289042   0.890594    0.537919    0.595354])"
   ]
  },
  {
   "cell_type": "code",
   "execution_count": null,
   "id": "a6b031de-4736-4de6-b6a7-6abc27ff525c",
   "metadata": {},
   "outputs": [],
   "source": [
    "iters(6)"
   ]
  },
  {
   "cell_type": "code",
   "execution_count": null,
   "id": "3a80a07e-2bd1-44a2-931b-84f9cacf4728",
   "metadata": {},
   "outputs": [],
   "source": []
  }
 ],
 "metadata": {
  "kernelspec": {
   "display_name": "Julia 1.10.4",
   "language": "julia",
   "name": "julia-1.10"
  },
  "language_info": {
   "file_extension": ".jl",
   "mimetype": "application/julia",
   "name": "julia",
   "version": "1.10.4"
  }
 },
 "nbformat": 4,
 "nbformat_minor": 5
}
