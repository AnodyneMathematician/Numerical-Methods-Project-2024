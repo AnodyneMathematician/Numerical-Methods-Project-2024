{
 "cells": [
  {
   "cell_type": "code",
   "execution_count": 83,
   "id": "fc87745b-450e-47c8-9dbe-17630bf140e2",
   "metadata": {},
   "outputs": [],
   "source": [
    "using Distributions"
   ]
  },
  {
   "cell_type": "code",
   "execution_count": 84,
   "id": "69763935-69a9-4a50-892a-f02225b6df27",
   "metadata": {},
   "outputs": [
    {
     "data": {
      "text/plain": [
       "randmatrix"
      ]
     },
     "execution_count": 84,
     "metadata": {},
     "output_type": "execute_result"
    }
   ],
   "source": [
    "\"\"\"\n",
    "Takes input n and m and creates n×n matrix with m non-zero elements randomly selected to be floats between -1 and 1\n",
    "\"\"\"\n",
    "function randmatrix(n::Int64, m::Int64)\n",
    "    p = Float64(m)/Float64(n)^2 #Calculates success rate\n",
    "    M = rand(Bernoulli(p), n, n) #Creates n×n bernoulli matrix (0 and 1s)\n",
    "    N = rand(Uniform(-1,1), n, n) #Creates n×n matrix with values random between -1 and 1\n",
    "    for i = 1:n\n",
    "        for j = 1:n\n",
    "            if M[i,j] == 0\n",
    "                N[i,j] = 0.0 #If value in M is 0, corresponding value in N is changed to 0.0, otherwise, do nothing\n",
    "            end\n",
    "        end\n",
    "    end\n",
    "    return N\n",
    "end"
   ]
  },
  {
   "cell_type": "code",
   "execution_count": 85,
   "id": "0daf7785-ba91-4bcc-a8cf-f6a22f63cd0a",
   "metadata": {},
   "outputs": [
    {
     "data": {
      "text/plain": [
       "numnonzero"
      ]
     },
     "execution_count": 85,
     "metadata": {},
     "output_type": "execute_result"
    }
   ],
   "source": [
    "\"\"\"\n",
    "Calculates number of non-zero elements of a matrix\n",
    "\"\"\"\n",
    "function numnonzero(M::Matrix{Float64})\n",
    "    count = 0 #Initialises count\n",
    "    n = size(M,1) #Collects size of matrix\n",
    "    m = size(M, 2)\n",
    "    for i = 1:n\n",
    "        for j = 1:m\n",
    "            if M[i,j] != 0 #If value non-zero, adds one to count\n",
    "                count += 1\n",
    "            end\n",
    "        end\n",
    "    end\n",
    "    return count\n",
    "end\n",
    "    "
   ]
  },
  {
   "cell_type": "code",
   "execution_count": null,
   "id": "8f99ab17-5596-4bc7-90cd-9d94fbbf92f3",
   "metadata": {},
   "outputs": [],
   "source": []
  }
 ],
 "metadata": {
  "kernelspec": {
   "display_name": "Julia 1.10.4",
   "language": "julia",
   "name": "julia-1.10"
  },
  "language_info": {
   "file_extension": ".jl",
   "mimetype": "application/julia",
   "name": "julia",
   "version": "1.10.4"
  }
 },
 "nbformat": 4,
 "nbformat_minor": 5
}
