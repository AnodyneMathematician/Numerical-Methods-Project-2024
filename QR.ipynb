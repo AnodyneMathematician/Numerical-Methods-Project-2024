{
 "cells": [
  {
   "cell_type": "code",
   "execution_count": 56,
   "id": "bb2ba132-28c8-484c-b163-c5fbcfbb9ac7",
   "metadata": {},
   "outputs": [],
   "source": [
    "using LinearAlgebra"
   ]
  },
  {
   "cell_type": "code",
   "execution_count": 57,
   "id": "32a703b6-1a4b-437d-ad32-f74531ecf049",
   "metadata": {},
   "outputs": [
    {
     "data": {
      "text/plain": [
       "gramschmidt"
      ]
     },
     "execution_count": 57,
     "metadata": {},
     "output_type": "execute_result"
    }
   ],
   "source": [
    "\"\"\"\n",
    "Implementation of Gram-Schmidt Process. \n",
    "Original vectors and orthonormal basis vectors are listed as columns of a matrix.\n",
    "Data is all Float64.\n",
    "\"\"\"\n",
    "function gramschmidt(A::Matrix{Float64})\n",
    "    B = copy(A) #Create output matrix\n",
    "    m = size(A,1) #Extract Dimensions of matrix\n",
    "    n = size(A,2)\n",
    "    for i = 1:m #We will run this for every column vector\n",
    "        veci = B[:,i] #Extact ith vector\n",
    "        uveci = veci ./ norm(veci) #Normalise ith vector\n",
    "        B[:,i] = uveci #Update B to contain normalised vector\n",
    "        for j = i+1:m #We will update all vectors after the ith\n",
    "            vecj = B[:,j] #Extract jth vector\n",
    "            B[:,j] = vecj - (vecj⋅veci).*uveci./norm(veci) #We substract the vector projection of vecj on veci from vecj\n",
    "        end\n",
    "    end\n",
    "    return B #Return matrix B\n",
    "end"
   ]
  },
  {
   "cell_type": "code",
   "execution_count": 58,
   "id": "4206207b-8e36-44db-a2ae-931eb6ab0bfb",
   "metadata": {},
   "outputs": [
    {
     "data": {
      "text/plain": [
       "qrdecomp"
      ]
     },
     "execution_count": 58,
     "metadata": {},
     "output_type": "execute_result"
    }
   ],
   "source": [
    "\"\"\"\n",
    "Decomposes square matrix into QR form.\n",
    "Q matrix is orthogonal (computed using gram-schmidt algorithm).\n",
    "R is upper triangular with R = Q^T*A.\n",
    "Data is all Float64.\n",
    "\"\"\"\n",
    "function qrdecomp(A::Matrix{Float64})\n",
    "    Q = gramschmidt(A) #Calculates Q using gram-schmidt algorithm\n",
    "    R = transpose(Q)*A #Calculates R\n",
    "    return Q, R #Returns the two matrices\n",
    "end"
   ]
  },
  {
   "cell_type": "code",
   "execution_count": 59,
   "id": "c65052f0-64c2-422a-85e8-5986a3894c41",
   "metadata": {},
   "outputs": [
    {
     "data": {
      "text/plain": [
       "qralgorithm"
      ]
     },
     "execution_count": 59,
     "metadata": {},
     "output_type": "execute_result"
    }
   ],
   "source": [
    "\"\"\"\n",
    "Creates list of Eigenvalues of a square matrix through an implementation of the QR algorithm.\n",
    "Data is all Float64.\n",
    "\"\"\"\n",
    "function qralgorithm(A::Matrix{Float64})\n",
    "    n = size(A,1) #Gets dimension of matrix\n",
    "    ϵ = 1e-16 #Error term (used to check when algorithm should terminate)\n",
    "    Q, R = qrdecomp(A) #Calculates QR form of matrix A \n",
    "    newA = R*Q #Calculates next A in sequence by reversing order of QR form\n",
    "    newQ, newR = qrdecomp(newA) #Calculates QR form of this new matrix\n",
    "    while all(diag(abs.(newA - A) .< ϵ)) == false #checks if the diagonal (eigenvalues) of the newA and A are all\n",
    "                                                  #within ϵ of each other and continues iterating if they are not\n",
    "        A, Q, R = newA, newQ, newR #Updates A, Q, and R to be new values\n",
    "        newA = R*Q #Calculates next A in sequence by reversing order of QR form\n",
    "        newQ, newR = qrdecomp(newA) #Calculates QR form of this this new matrix     \n",
    "    end\n",
    "    Eigen = diag(newA) #Generates list of eigenvectors of orginal matrix (they are the diagonals of newA)\n",
    "    return Eigen #Returns eigenvalues\n",
    "end"
   ]
  },
  {
   "cell_type": "code",
   "execution_count": null,
   "id": "a362348c-46cb-403d-8bdc-b990d46e1f81",
   "metadata": {},
   "outputs": [],
   "source": []
  }
 ],
 "metadata": {
  "kernelspec": {
   "display_name": "Julia 1.10.4",
   "language": "julia",
   "name": "julia-1.10"
  },
  "language_info": {
   "file_extension": ".jl",
   "mimetype": "application/julia",
   "name": "julia",
   "version": "1.10.4"
  }
 },
 "nbformat": 4,
 "nbformat_minor": 5
}
