{
 "cells": [
  {
   "cell_type": "code",
   "execution_count": 131,
   "id": "0271a68a-d87f-40fb-8cf8-0402cda104e7",
   "metadata": {},
   "outputs": [],
   "source": [
    "using LinearAlgebra"
   ]
  },
  {
   "cell_type": "code",
   "execution_count": 132,
   "id": "79175637-1f20-4723-aa09-a8acd838731d",
   "metadata": {},
   "outputs": [
    {
     "data": {
      "text/plain": [
       "house"
      ]
     },
     "execution_count": 132,
     "metadata": {},
     "output_type": "execute_result"
    }
   ],
   "source": [
    "\"\"\"\n",
    "Given a real square matrix M and an integer m, outputs householder reflection of for the mth column\n",
    "\"\"\"\n",
    "function house(M::Matrix, m::Int64, n::Int64, ϵ::Float64) #n is dimensions of matrix, ϵ the error\n",
    "    A = copy(M) #Initialises copy of M\n",
    "    for i = 1:m\n",
    "        A = A[1:n-i+1 .!= 1,: ] #Removes first m rows\n",
    "    end\n",
    "    a = A[:,m] #Extracts mth column (with only n-m elements now)\n",
    "    e = I[1:(n-m), 1] #Creates vector with n-m elements, leading with 1 and all other elements 0\n",
    "    w = a - norm(a)*e #Calculates w\n",
    "    if norm(w) > ϵ\n",
    "        P = Float64.(Matrix(I, n-m, n-m)) - (2w*(w'))/(norm(w)^2) #Calculates householder matrix P\n",
    "    else\n",
    "        P = Float64.(Matrix(I, n-m, n-m))\n",
    "    end\n",
    "    U = Float64.(Matrix(I, n, n)) #Initialises identity matrix\n",
    "    for i = 1:n-m\n",
    "        for j = 1:n-m\n",
    "            U[i+m,j+m] = P[i,j] #Extends P to n×n dimensions by inserting P into the bottom right corner of an identity matrix\n",
    "        end\n",
    "    end\n",
    "    return U #Returns householder transformation U\n",
    "end"
   ]
  },
  {
   "cell_type": "code",
   "execution_count": 133,
   "id": "2ba4cafa-2b9e-487f-a7ee-774e170fd77c",
   "metadata": {},
   "outputs": [
    {
     "data": {
      "text/plain": [
       "hessen"
      ]
     },
     "execution_count": 133,
     "metadata": {},
     "output_type": "execute_result"
    }
   ],
   "source": [
    "\"\"\"\n",
    "Calculates similar hessenberg matrix of a given real square matrix M\n",
    "\"\"\"\n",
    "function hessen(M::Matrix, n::Int64, ϵ::Float64) #n is dimensions of matrix, ϵ the error\n",
    "    A = copy(M) #Initialises copy of M\n",
    "    for i = 1:n-2\n",
    "        U = house(A, i, n, ϵ) #Recursively generates householder transformation\n",
    "        A = U*A*(U') #Applies transformation to A (uses conjugate transpose to retain similarity)\n",
    "    end\n",
    "    return A #Returns hessenberg matrix A\n",
    "end "
   ]
  },
  {
   "cell_type": "code",
   "execution_count": 134,
   "id": "d0e98617-f152-4b9a-8158-c35a0e41baba",
   "metadata": {},
   "outputs": [
    {
     "data": {
      "text/plain": [
       "given"
      ]
     },
     "execution_count": 134,
     "metadata": {},
     "output_type": "execute_result"
    }
   ],
   "source": [
    "\"\"\"\n",
    "Computes Givens Rotation that shifts 2×2 matrix with left column [a b] in to an upper-triangular matrix (bottom left 0)\n",
    "\"\"\"\n",
    "function given(a::ComplexF64, b::ComplexF64, ϵ::Float64) #ϵ is the error\n",
    "    u = (abs2(a) + abs2(b))^0.5 #Calculates norm of vector [a b]\n",
    "    if u > ϵ\n",
    "        c = a/u #Calculates c\n",
    "        s = b/u #Calculates s\n",
    "        G = [conj(c) conj(s); -s c] #Calculates Givens Rotation G\n",
    "        return G #Returns G\n",
    "    else\n",
    "        return [1 0; 0 1]\n",
    "    end\n",
    "end"
   ]
  },
  {
   "cell_type": "code",
   "execution_count": 135,
   "id": "06223a92-f86e-4fad-86f6-155b4531869f",
   "metadata": {},
   "outputs": [
    {
     "data": {
      "text/plain": [
       "hessenqrdecomp"
      ]
     },
     "execution_count": 135,
     "metadata": {},
     "output_type": "execute_result"
    }
   ],
   "source": [
    "\"\"\"\n",
    "Calculates QR form of a real square matrix using Hessenberg reduction and Givens Rotations\n",
    "\"\"\"\n",
    "function hessenqrdecomp(M::Matrix, n::Int64, ϵ::Float64) #n is dimensions of matrix, ϵ the error\n",
    "    A = copy(M)\n",
    "    T = Matrix(I, n, n) #Initialises product of Givens Rotations\n",
    "    for i = 1:n-1 #As Givens rotations are 2×2 matrixs, we only need to do n-1, not n, iterations\n",
    "        a = A[i,i] #Extract arguements for given() function\n",
    "        b = A[i+1,i]\n",
    "        G = given(a, b, ϵ) #Creates Givens Rotation\n",
    "        F = ComplexF64.(Matrix(I, n, n)) #Initialises n×n identity matrix\n",
    "        F[i,i], F[i,i+1], F[i+1,i], F[i+1,i+1] = G[1,1], G[1,2], G[2,1], G[2,2] #Inserts Givens Rotation along the diagonal\n",
    "        T = F*T #Updates product of Givens Rotations\n",
    "        A = F*A #Applies Givens Rotation to A\n",
    "    end\n",
    "    R = A #Calculates R\n",
    "    Q = T' #Calculates Q \n",
    "    return Q, R #Return QR form\n",
    "end"
   ]
  },
  {
   "cell_type": "code",
   "execution_count": 136,
   "id": "0259c45e-f12e-4df1-8830-8e5f2ff098ec",
   "metadata": {},
   "outputs": [
    {
     "data": {
      "text/plain": [
       "francisqrdecomp"
      ]
     },
     "execution_count": 136,
     "metadata": {},
     "output_type": "execute_result"
    }
   ],
   "source": [
    "\"\"\"\n",
    "Given a Complex square matrix M computes one step of the Francis Double Shift modification for the QR algorithm\n",
    "The Algorithm checks bottom left 2×2 submatrix of M.\n",
    "This matrix will have real eigenvalues is the bottom left entry is zero, and complex otherwise.\n",
    "\"\"\"\n",
    "function francisqrdecomp(M::Matrix{ComplexF64}, n::Int64, ϵ::Float64) #n is dimensions of matrix, ϵ the error\n",
    "    if abs(M[n,n-1]) < ϵ #checks if bottom left entry of submatrix is 0, meaning we have real eigenvalues\n",
    "        μ = min(M[n-1,n-1].re, M[n,n].re) #Extracts smaller of the two eigenvalues\n",
    "        T = M - μ*I #Performs shift\n",
    "        Q, R = hessenqrdecomp(T,n, ϵ) #Performs hessenberg decomposition\n",
    "        M = R*Q + μ*I #Corrects shift\n",
    "    else #In this case, the eigenvalues are complex\n",
    "        a, b, c, d = M[n-1,n-1], M[n-1,n], M[n,n-1], M[n,n] #Extracts entries of 2×w matrix\n",
    "        μ1 = (a + d + ((a + d)^2 -4*(a*d - b*c))^0.5)/2 #Calculates both eigenvalues analytically\n",
    "        μ2 = (a + d - ((a + d)^2 -4*(a*d - b*c))^0.5)/2\n",
    "        T = M - μ1*I #Performs shift\n",
    "        Q, R = hessenqrdecomp(T, n, ϵ) #Performs hessenberg decomposition\n",
    "        M = R*Q + μ1*I #Corrects shift\n",
    "        T = M - μ2*I #Performs second shift\n",
    "        Q, R = hessenqrdecomp(T, n, ϵ) #Performs hessenberg decomposition\n",
    "        M = R*Q + μ2*I #Corrects second shift\n",
    "    end\n",
    "    return M #Returns modified matrix\n",
    "end"
   ]
  },
  {
   "cell_type": "code",
   "execution_count": 137,
   "id": "61aba544-b435-4a47-9309-15d18cb8b077",
   "metadata": {},
   "outputs": [
    {
     "data": {
      "text/plain": [
       "extracteigen"
      ]
     },
     "execution_count": 137,
     "metadata": {},
     "output_type": "execute_result"
    }
   ],
   "source": [
    "\"\"\"\n",
    "Extracts Eigenvalues from a n×n square matrix in Shur form (derived from real matrix).\n",
    "Eigenvalues are either on the leading diagonal, or are solved analytically from a 2×w matrix in the case they are complex \n",
    "conjugates.\n",
    "We can check if the eigenvalue on the diagonal is part of such a pair by checking if there is a non-zero element \n",
    "below the diagonal\n",
    "\"\"\"\n",
    "function extracteigen(M::Matrix, n::Int64, ϵ::Float64) #n is the dimensions of matrix, ϵ is error tolerance\n",
    "    Eigen = zeros(Complex{Float64}, n) #Initialises vector of n eigenvalues\n",
    "    M = ComplexF64.(M) #Converts matrix into complex form\n",
    "    for i = 1:n #Recursively checks over all the leading diagonal\n",
    "        Eigen[i] = M[i,i] #By defualt, the Eigenvalue is taken from the diagonal\n",
    "        if i < n #Check to prevent index M[i+1,i] from exceeding bounds of n×n matrix\n",
    "            if abs(M[i+1,i]) > ϵ #Checks if value immediately below the ith diagonal element is non-zero \n",
    "                a, b, c, d = M[i,i], M[i,i+1], M[i+1,i], M[i+1,i+1] #Extracts values of 2×2 matrix\n",
    "                λ = (a + d + ((a + d)^2 -4*(a*d - b*c))^0.5)/2 #Calculates eigenvalue. This one takes the positive imaginary\n",
    "                                                               #solution, we can see below that this eigenvalue pair will be\n",
    "                                                               #picked up again by i+1, in which case will assign the negative\n",
    "                                                               #imaginary solution\n",
    "                Eigen[i] = λ #Assigns Eigenvalue as being λ\n",
    "            end\n",
    "        end\n",
    "        if i > 1 #Similar check as above, prevents M[i,i-1] from exceeding bounds of n×n matrix\n",
    "            if abs(M[i,i-1]) > ϵ #Checks if value immediately to the left of the ith diagonal element is non-zero\n",
    "                                 #Note that this element is still below the diagonal\n",
    "                a, b, c, d = M[i-1,i-1], M[i-1,i], M[i,i-1], M[i,i] #Extracts values of 2×2 matrix\n",
    "                λ = (a + d - ((a + d)^2 -4*(a*d - b*c))^0.5)/2 #Calculates eigenvalue, As the positive imaginary solution was\n",
    "                                                               #picked on the previous iteration, we take the negative\n",
    "                                                               #imaginary solution\n",
    "                Eigen[i] = λ #Assigns Eigenvalue as being λ\n",
    "            end\n",
    "        end\n",
    "    end\n",
    "    return Eigen #Returns list of Eigenvalues\n",
    "end"
   ]
  },
  {
   "cell_type": "code",
   "execution_count": 138,
   "id": "6d913d6d-fb67-47ba-909c-b6d94647cfed",
   "metadata": {},
   "outputs": [
    {
     "data": {
      "text/plain": [
       "hessfrancisqralg"
      ]
     },
     "execution_count": 138,
     "metadata": {},
     "output_type": "execute_result"
    }
   ],
   "source": [
    "\"\"\"\n",
    "Given a real square matrix M, calculates eigenvalues uses QR algorith.\n",
    "Uses Hessenberg Decomposition and Francis Double Shifts for increased efficiency\n",
    "\"\"\"\n",
    "function hessfrancisqralg(M::Matrix{Float64})\n",
    "    #count = 0\n",
    "    M = ComplexF64.(M) #Converts matrix into complex form\n",
    "    n = size(M, 1) #Calcaulates size of matrix (assumed square)\n",
    "    ϵ1 = 1e-5 #Error term (used to check when algorithm should terminate)\n",
    "    ϵ2 = (ϵ1)^2 #Sqaure of Error term (used to avoid having to take square root of complex numbers)\n",
    "    A = hessen(M, n, ϵ1) #Reduces matrix to hessenberg form\n",
    "    newA = francisqrdecomp(A, n, ϵ1) #Performs francis double shift QR decomposition\n",
    "    Eigen = extracteigen(A, n, ϵ1) #Makes list of eigenvalues of A\n",
    "    newEigen = extracteigen(newA, n, ϵ1) #Makes list of eigenvalues of newA\n",
    "    while all(abs2.(Eigen-newEigen) .< ϵ2) == false #checks if the eigenvalues of the newA and A are all within ϵ1\n",
    "                                                    #of each other and continues iterating if they are not\n",
    "        A = newA #Updates A\n",
    "        newA = francisqrdecomp(A, n, ϵ1) #Computes newA\n",
    "        Eigen = newEigen #Updates list of eigenvalues of A\n",
    "        newEigen = extracteigen(newA, n, ϵ1) #Updates list of eigenvalues of newA\n",
    "    end\n",
    "    for i in 1:n #Iterates over all eigenvalues\n",
    "        if abs2(newEigen[i].im) < ϵ2 #Checks if imaginary part of eigenvalue is within ϵ1 of 0\n",
    "            newEigen[i] = ComplexF64(newEigen[i].re) #If so, removes imaginary component so that the eigenvalue is real\n",
    "        end\n",
    "        if abs2(newEigen[i].re) < ϵ2 #Checks if real part of eigenvale is within ϵ1 of 0\n",
    "            newEigen[i] = ComplexF64(newEigen[i].im) #If so, removes real component so that the eigenvalue is imaginary\n",
    "        end\n",
    "    end\n",
    "    return Eigen #Returns eigenvalues\n",
    "end"
   ]
  }
 ],
 "metadata": {
  "kernelspec": {
   "display_name": "Julia 1.10.4",
   "language": "julia",
   "name": "julia-1.10"
  },
  "language_info": {
   "file_extension": ".jl",
   "mimetype": "application/julia",
   "name": "julia",
   "version": "1.10.4"
  }
 },
 "nbformat": 4,
 "nbformat_minor": 5
}
